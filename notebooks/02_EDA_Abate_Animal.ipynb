{
 "cells": [
  {
   "metadata": {},
   "cell_type": "markdown",
   "source": "**Etapa 2.1 e 2.2: EDA e Limpeza Focada**",
   "id": "a1637116beab1939"
  },
  {
   "cell_type": "code",
   "id": "initial_id",
   "metadata": {
    "collapsed": true,
    "ExecuteTime": {
     "end_time": "2025-06-07T04:10:17.691999Z",
     "start_time": "2025-06-07T04:10:17.396716Z"
    }
   },
   "source": [
    "import pandas as pd\n",
    "import os\n",
    "import plotly.express as px\n",
    "\n",
    "# --- Configurações ---\n",
    "FILE_NAME = 'sigsifrelatorioabatesporanouf.csv'\n",
    "FILE_PATH = os.path.join('../data/raw/', FILE_NAME)\n",
    "CHUNKSIZE = 200_000 # Podemos usar um chunksize maior pois o arquivo não é tão grande\n",
    "\n",
    "# --- Etapa de Pré-processamento e Carga ---\n",
    "print(f\"Iniciando o processamento do arquivo: {FILE_NAME}\")\n",
    "\n",
    "processed_chunks = []\n",
    "try:\n",
    "    # Vamos ler o arquivo em pedaços para garantir a eficiência\n",
    "    iterator = pd.read_csv(FILE_PATH, sep=';', encoding='latin1', chunksize=CHUNKSIZE, low_memory=False)\n",
    "\n",
    "    for chunk in iterator:\n",
    "        # 1. Renomear colunas para facilitar o uso\n",
    "        chunk.rename(columns={\n",
    "            'MES_ANO': 'data',\n",
    "            'UF_PROCEDENCIA': 'uf',\n",
    "            'CATEGORIA': 'especie',\n",
    "            'QTD': 'quantidade_cabecas'\n",
    "        }, inplace=True)\n",
    "\n",
    "        # 2. Converter a coluna 'data' para o formato datetime\n",
    "        # O formato é 'MM/YYYY', então ajudamos o pandas a entender\n",
    "        chunk['data'] = pd.to_datetime(chunk['data'], format='%m/%Y', errors='coerce')\n",
    "\n",
    "        # 3. Remover linhas onde a data não pôde ser convertida\n",
    "        chunk.dropna(subset=['data'], inplace=True)\n",
    "\n",
    "        # 4. Otimizar tipos de dados para reduzir uso de memória\n",
    "        chunk['quantidade_cabecas'] = pd.to_numeric(chunk['quantidade_cabecas'], downcast='integer')\n",
    "        chunk['uf'] = chunk['uf'].astype('category')\n",
    "        chunk['especie'] = chunk['especie'].astype('category')\n",
    "\n",
    "        processed_chunks.append(chunk)\n",
    "\n",
    "except Exception as e:\n",
    "    print(f\"Ocorreu um erro durante o processamento: {e}\")\n",
    "\n",
    "# Concatena todos os pedaços processados em um único DataFrame\n",
    "df_abate = pd.concat(processed_chunks)\n",
    "\n",
    "print(\"\\nProcessamento concluído. Verificando a estrutura final do DataFrame:\")\n",
    "df_abate.info()\n",
    "\n",
    "print(\"\\nVerificando as espécies presentes no dataset:\")\n",
    "print(df_abate['especie'].unique())\n",
    "\n",
    "print(\"\\n--- Amostra dos Dados Limpos e Estruturados ---\")\n",
    "display(df_abate.head())\n",
    "\n",
    "\n",
    "# --- Etapa de Análise Exploratória (EDA) ---\n",
    "\n",
    "# 1. Agregar dados por ano para a visualização macro\n",
    "# Extraímos o ano da coluna 'data'\n",
    "# Linha corrigida para silenciar o warning e adotar a prática futura\n",
    "df_anual = df_abate.groupby(\n",
    "    [df_abate['data'].dt.year, 'especie'],\n",
    "    observed=True  # Adicionamos este parâmetro\n",
    ")['quantidade_cabecas'].sum().reset_index()\n",
    "\n",
    "df_anual.rename(columns={'data': 'ano'}, inplace=True)\n",
    "\n",
    "print(\"\\n--- Dados Agregados por Ano ---\")\n",
    "display(df_anual.head())\n",
    "\n",
    "# 2. Criar o gráfico de linhas interativo\n",
    "print(\"\\n--- Visualização: Série Temporal de Abates por Espécie ---\")\n",
    "fig = px.line(\n",
    "    df_anual,\n",
    "    x='ano',\n",
    "    y='quantidade_cabecas',\n",
    "    color='especie',\n",
    "    title='Evolução Anual do Abate de Animais no Brasil (SIF)',\n",
    "    labels={\n",
    "        'ano': 'Ano',\n",
    "        'quantidade_cabecas': 'Quantidade de Cabeças Abatidas',\n",
    "        'especie': 'Espécie'\n",
    "    },\n",
    "    markers=True\n",
    ")\n",
    "\n",
    "fig.show()"
   ],
   "outputs": [
    {
     "name": "stdout",
     "output_type": "stream",
     "text": [
      "Iniciando o processamento do arquivo: sigsifrelatorioabatesporanouf.csv\n",
      "\n",
      "Processamento concluído. Verificando a estrutura final do DataFrame:\n",
      "<class 'pandas.core.frame.DataFrame'>\n",
      "RangeIndex: 59563 entries, 0 to 59562\n",
      "Data columns (total 4 columns):\n",
      " #   Column              Non-Null Count  Dtype         \n",
      "---  ------              --------------  -----         \n",
      " 0   data                59563 non-null  datetime64[ns]\n",
      " 1   uf                  59563 non-null  category      \n",
      " 2   especie             59563 non-null  category      \n",
      " 3   quantidade_cabecas  59563 non-null  int32         \n",
      "dtypes: category(2), datetime64[ns](1), int32(1)\n",
      "memory usage: 818.5 KB\n",
      "\n",
      "Verificando as espécies presentes no dataset:\n",
      "['Bovino', 'Suino', 'Equino', 'Novilho Precoce', 'Leitao', ..., 'Cutia', 'Ostra', 'Uma ou mais espÃ©cies', 'Aves nÃ£o destinadas Ã  produÃ§Ã£o de carne o..., 'Pirapitinga']\n",
      "Length: 92\n",
      "Categories (92, object): ['Asinino', 'Aves', 'Aves nÃ£o destinadas Ã  produÃ§Ã£o de carne o..., 'Avestruz', ..., 'Truta, Truta-Arco-Ãris', 'Uma ou mais espÃ©cies', 'Vaca', 'Vitelo']\n",
      "\n",
      "--- Amostra dos Dados Limpos e Estruturados ---\n"
     ]
    },
    {
     "data": {
      "text/plain": [
       "        data  uf          especie  quantidade_cabecas\n",
       "0 2002-01-01  DF           Bovino                  14\n",
       "1 2003-01-01  BA            Suino                2531\n",
       "2 2003-01-01  MG           Equino                1469\n",
       "3 2003-01-01  MT  Novilho Precoce                 647\n",
       "4 2003-01-01  PR            Suino              157336"
      ],
      "text/html": [
       "<div>\n",
       "<style scoped>\n",
       "    .dataframe tbody tr th:only-of-type {\n",
       "        vertical-align: middle;\n",
       "    }\n",
       "\n",
       "    .dataframe tbody tr th {\n",
       "        vertical-align: top;\n",
       "    }\n",
       "\n",
       "    .dataframe thead th {\n",
       "        text-align: right;\n",
       "    }\n",
       "</style>\n",
       "<table border=\"1\" class=\"dataframe\">\n",
       "  <thead>\n",
       "    <tr style=\"text-align: right;\">\n",
       "      <th></th>\n",
       "      <th>data</th>\n",
       "      <th>uf</th>\n",
       "      <th>especie</th>\n",
       "      <th>quantidade_cabecas</th>\n",
       "    </tr>\n",
       "  </thead>\n",
       "  <tbody>\n",
       "    <tr>\n",
       "      <th>0</th>\n",
       "      <td>2002-01-01</td>\n",
       "      <td>DF</td>\n",
       "      <td>Bovino</td>\n",
       "      <td>14</td>\n",
       "    </tr>\n",
       "    <tr>\n",
       "      <th>1</th>\n",
       "      <td>2003-01-01</td>\n",
       "      <td>BA</td>\n",
       "      <td>Suino</td>\n",
       "      <td>2531</td>\n",
       "    </tr>\n",
       "    <tr>\n",
       "      <th>2</th>\n",
       "      <td>2003-01-01</td>\n",
       "      <td>MG</td>\n",
       "      <td>Equino</td>\n",
       "      <td>1469</td>\n",
       "    </tr>\n",
       "    <tr>\n",
       "      <th>3</th>\n",
       "      <td>2003-01-01</td>\n",
       "      <td>MT</td>\n",
       "      <td>Novilho Precoce</td>\n",
       "      <td>647</td>\n",
       "    </tr>\n",
       "    <tr>\n",
       "      <th>4</th>\n",
       "      <td>2003-01-01</td>\n",
       "      <td>PR</td>\n",
       "      <td>Suino</td>\n",
       "      <td>157336</td>\n",
       "    </tr>\n",
       "  </tbody>\n",
       "</table>\n",
       "</div>"
      ]
     },
     "metadata": {},
     "output_type": "display_data"
    },
    {
     "name": "stdout",
     "output_type": "stream",
     "text": [
      "\n",
      "--- Dados Agregados por Ano ---\n"
     ]
    },
    {
     "data": {
      "text/plain": [
       "    ano especie  quantidade_cabecas\n",
       "0  1995  Bovino                 245\n",
       "1  2000  Bovino               37900\n",
       "2  2000   Suino               14085\n",
       "3  2001  Bovino               41978\n",
       "4  2001  Frango            13405752"
      ],
      "text/html": [
       "<div>\n",
       "<style scoped>\n",
       "    .dataframe tbody tr th:only-of-type {\n",
       "        vertical-align: middle;\n",
       "    }\n",
       "\n",
       "    .dataframe tbody tr th {\n",
       "        vertical-align: top;\n",
       "    }\n",
       "\n",
       "    .dataframe thead th {\n",
       "        text-align: right;\n",
       "    }\n",
       "</style>\n",
       "<table border=\"1\" class=\"dataframe\">\n",
       "  <thead>\n",
       "    <tr style=\"text-align: right;\">\n",
       "      <th></th>\n",
       "      <th>ano</th>\n",
       "      <th>especie</th>\n",
       "      <th>quantidade_cabecas</th>\n",
       "    </tr>\n",
       "  </thead>\n",
       "  <tbody>\n",
       "    <tr>\n",
       "      <th>0</th>\n",
       "      <td>1995</td>\n",
       "      <td>Bovino</td>\n",
       "      <td>245</td>\n",
       "    </tr>\n",
       "    <tr>\n",
       "      <th>1</th>\n",
       "      <td>2000</td>\n",
       "      <td>Bovino</td>\n",
       "      <td>37900</td>\n",
       "    </tr>\n",
       "    <tr>\n",
       "      <th>2</th>\n",
       "      <td>2000</td>\n",
       "      <td>Suino</td>\n",
       "      <td>14085</td>\n",
       "    </tr>\n",
       "    <tr>\n",
       "      <th>3</th>\n",
       "      <td>2001</td>\n",
       "      <td>Bovino</td>\n",
       "      <td>41978</td>\n",
       "    </tr>\n",
       "    <tr>\n",
       "      <th>4</th>\n",
       "      <td>2001</td>\n",
       "      <td>Frango</td>\n",
       "      <td>13405752</td>\n",
       "    </tr>\n",
       "  </tbody>\n",
       "</table>\n",
       "</div>"
      ]
     },
     "metadata": {},
     "output_type": "display_data"
    },
    {
     "name": "stdout",
     "output_type": "stream",
     "text": [
      "\n",
      "--- Visualização: Série Temporal de Abates por Espécie ---\n"
     ]
    },
    {
     "data": {
      "application/vnd.plotly.v1+json": {
       "data": [
        {
         "hovertemplate": "Espécie=Bovino<br>Ano=%{x}<br>Quantidade de Cabeças Abatidas=%{y}<extra></extra>",
         "legendgroup": "Bovino",
         "line": {
          "color": "#636efa",
          "dash": "solid"
         },
         "marker": {
          "symbol": "circle"
         },
         "mode": "lines+markers",
         "name": "Bovino",
         "showlegend": true,
         "x": [
          1995,
          2000,
          2001,
          2002,
          2003,
          2004,
          2005,
          2006,
          2007,
          2008,
          2009,
          2010,
          2011,
          2012,
          2013,
          2014,
          2015,
          2016,
          2017,
          2018,
          2019,
          2020,
          2021,
          2022,
          2023,
          2024,
          2025
         ],
         "xaxis": "x",
         "y": [
          245,
          37900,
          41978,
          2463304,
          11495476,
          16265490,
          18014121,
          19793778,
          20238692,
          18178755,
          17702992,
          17849325,
          17459921,
          18461663,
          20121814,
          20060480,
          18211622,
          17458892,
          17976239,
          19391332,
          20055035,
          18495441,
          20330211,
          22368161,
          25151607,
          28514025,
          11683438
         ],
         "yaxis": "y",
         "type": "scattergl"
        },
        {
         "hovertemplate": "Espécie=Suino<br>Ano=%{x}<br>Quantidade de Cabeças Abatidas=%{y}<extra></extra>",
         "legendgroup": "Suino",
         "line": {
          "color": "#EF553B",
          "dash": "solid"
         },
         "marker": {
          "symbol": "circle"
         },
         "mode": "lines+markers",
         "name": "Suino",
         "showlegend": true,
         "x": [
          2000,
          2001,
          2002,
          2003,
          2004,
          2005,
          2006,
          2007,
          2008,
          2009,
          2010,
          2011,
          2012,
          2013,
          2014,
          2015,
          2016,
          2017,
          2018,
          2019,
          2020,
          2021
         ],
         "xaxis": "x",
         "y": [
          14085,
          22431,
          6683189,
          9245018,
          8974133,
          9847905,
          11753609,
          13140164,
          14238012,
          13509105,
          14692085,
          16359915,
          18402724,
          18522993,
          19571992,
          20753838,
          21361700,
          22229700,
          22991245,
          22240371,
          23759784,
          1816088
         ],
         "yaxis": "y",
         "type": "scattergl"
        },
        {
         "hovertemplate": "Espécie=Frango<br>Ano=%{x}<br>Quantidade de Cabeças Abatidas=%{y}<extra></extra>",
         "legendgroup": "Frango",
         "line": {
          "color": "#00cc96",
          "dash": "solid"
         },
         "marker": {
          "symbol": "circle"
         },
         "mode": "lines+markers",
         "name": "Frango",
         "showlegend": true,
         "x": [
          2001,
          2002,
          2003,
          2004,
          2005,
          2006,
          2007,
          2008,
          2009,
          2010,
          2011,
          2012,
          2013,
          2014,
          2015,
          2016,
          2017,
          2018,
          2019,
          2020,
          2021,
          2022,
          2023,
          2024,
          2025
         ],
         "xaxis": "x",
         "y": [
          13405752,
          1020943997,
          2699024068,
          2996558685,
          3452881768,
          3689735626,
          4034667752,
          4444554633,
          4393121254,
          4691210807,
          5039057665,
          4985610811,
          5021547822,
          5088857754,
          5334324343,
          5407289261,
          5235056009,
          5038309150,
          5171601336,
          5422143713,
          3235843089,
          4012222320,
          5296094242,
          5449066884,
          2249549702
         ],
         "yaxis": "y",
         "type": "scattergl"
        },
        {
         "hovertemplate": "Espécie=Leitoa<br>Ano=%{x}<br>Quantidade de Cabeças Abatidas=%{y}<extra></extra>",
         "legendgroup": "Leitoa",
         "line": {
          "color": "#ab63fa",
          "dash": "solid"
         },
         "marker": {
          "symbol": "circle"
         },
         "mode": "lines+markers",
         "name": "Leitoa",
         "showlegend": true,
         "x": [
          2001,
          2002,
          2003,
          2004,
          2005,
          2006,
          2007,
          2008,
          2009,
          2010,
          2011,
          2012,
          2013,
          2014,
          2015,
          2016,
          2017,
          2018,
          2019,
          2020,
          2021
         ],
         "xaxis": "x",
         "y": [
          7,
          327,
          2368,
          12609,
          16140,
          35038,
          27764,
          30355,
          30683,
          30342,
          41429,
          24896,
          19705,
          16365,
          12382,
          12824,
          42450,
          67169,
          59999,
          19104,
          11501
         ],
         "yaxis": "y",
         "type": "scattergl"
        },
        {
         "hovertemplate": "Espécie=Porca Matrizeira<br>Ano=%{x}<br>Quantidade de Cabeças Abatidas=%{y}<extra></extra>",
         "legendgroup": "Porca Matrizeira",
         "line": {
          "color": "#FFA15A",
          "dash": "solid"
         },
         "marker": {
          "symbol": "circle"
         },
         "mode": "lines+markers",
         "name": "Porca Matrizeira",
         "showlegend": true,
         "x": [
          2001,
          2002,
          2003,
          2004,
          2005,
          2006,
          2007,
          2008,
          2009,
          2010,
          2011,
          2012,
          2013,
          2014,
          2015,
          2016,
          2017,
          2018,
          2019,
          2020,
          2021
         ],
         "xaxis": "x",
         "y": [
          2888,
          17709,
          146741,
          155771,
          195862,
          244854,
          231368,
          273265,
          298062,
          278000,
          311295,
          301296,
          278103,
          242245,
          283475,
          352548,
          373551,
          429516,
          400138,
          464261,
          38968
         ],
         "yaxis": "y",
         "type": "scattergl"
        },
        {
         "hovertemplate": "Espécie=Porco Nao Classificado<br>Ano=%{x}<br>Quantidade de Cabeças Abatidas=%{y}<extra></extra>",
         "legendgroup": "Porco Nao Classificado",
         "line": {
          "color": "#19d3f3",
          "dash": "solid"
         },
         "marker": {
          "symbol": "circle"
         },
         "mode": "lines+markers",
         "name": "Porco Nao Classificado",
         "showlegend": true,
         "x": [
          2001,
          2002,
          2003,
          2004,
          2005,
          2006,
          2007,
          2008,
          2009,
          2010,
          2011,
          2012,
          2013,
          2014,
          2015,
          2016,
          2017,
          2018,
          2019,
          2020,
          2021
         ],
         "xaxis": "x",
         "y": [
          25,
          792,
          9900,
          17220,
          8079,
          294019,
          488768,
          433811,
          534609,
          572186,
          603553,
          765609,
          1470104,
          1450940,
          1509809,
          2579035,
          2787147,
          2859273,
          3123740,
          3562463,
          314701
         ],
         "yaxis": "y",
         "type": "scattergl"
        },
        {
         "hovertemplate": "Espécie=Suino Tipo Carne,<br>Ano=%{x}<br>Quantidade de Cabeças Abatidas=%{y}<extra></extra>",
         "legendgroup": "Suino Tipo Carne,",
         "line": {
          "color": "#FF6692",
          "dash": "solid"
         },
         "marker": {
          "symbol": "circle"
         },
         "mode": "lines+markers",
         "name": "Suino Tipo Carne,",
         "showlegend": true,
         "x": [
          2001,
          2002,
          2003,
          2004,
          2005,
          2006,
          2007,
          2008,
          2009,
          2010,
          2011,
          2012,
          2013,
          2014,
          2015,
          2016,
          2017,
          2018,
          2019,
          2020,
          2021
         ],
         "xaxis": "x",
         "y": [
          60359,
          1205169,
          8918617,
          9940935,
          10892780,
          10677848,
          10393942,
          10981331,
          13610349,
          13486581,
          13562698,
          12837150,
          11603327,
          11539266,
          11802689,
          12297199,
          11227508,
          11784626,
          13117112,
          13498064,
          1067465
         ],
         "yaxis": "y",
         "type": "scattergl"
        },
        {
         "hovertemplate": "Espécie=Asinino<br>Ano=%{x}<br>Quantidade de Cabeças Abatidas=%{y}<extra></extra>",
         "legendgroup": "Asinino",
         "line": {
          "color": "#B6E880",
          "dash": "solid"
         },
         "marker": {
          "symbol": "circle"
         },
         "mode": "lines+markers",
         "name": "Asinino",
         "showlegend": true,
         "x": [
          2002,
          2003,
          2004,
          2005,
          2006,
          2007,
          2008,
          2009,
          2010,
          2011,
          2012,
          2013,
          2014,
          2015,
          2016,
          2017,
          2018,
          2019,
          2020,
          2021,
          2022,
          2023,
          2024,
          2025
         ],
         "xaxis": "x",
         "y": [
          7806,
          309,
          6611,
          11831,
          5603,
          1994,
          4522,
          3780,
          866,
          30,
          80,
          35,
          36,
          1575,
          1281,
          26125,
          62622,
          25,
          27686,
          69176,
          39727,
          28749,
          24706,
          9940
         ],
         "yaxis": "y",
         "type": "scattergl"
        },
        {
         "hovertemplate": "Espécie=Bubalino Jovem<br>Ano=%{x}<br>Quantidade de Cabeças Abatidas=%{y}<extra></extra>",
         "legendgroup": "Bubalino Jovem",
         "line": {
          "color": "#FF97FF",
          "dash": "solid"
         },
         "marker": {
          "symbol": "circle"
         },
         "mode": "lines+markers",
         "name": "Bubalino Jovem",
         "showlegend": true,
         "x": [
          2002,
          2003,
          2004,
          2005,
          2006,
          2007,
          2008,
          2009,
          2010,
          2011,
          2012,
          2013,
          2014,
          2015,
          2016,
          2017,
          2018,
          2019,
          2020,
          2021
         ],
         "xaxis": "x",
         "y": [
          255,
          137,
          242,
          143,
          225,
          375,
          122,
          275,
          132,
          71,
          359,
          77,
          396,
          1619,
          1616,
          2516,
          3811,
          771,
          875,
          144
         ],
         "yaxis": "y",
         "type": "scattergl"
        },
        {
         "hovertemplate": "Espécie=Bufala<br>Ano=%{x}<br>Quantidade de Cabeças Abatidas=%{y}<extra></extra>",
         "legendgroup": "Bufala",
         "line": {
          "color": "#FECB52",
          "dash": "solid"
         },
         "marker": {
          "symbol": "circle"
         },
         "mode": "lines+markers",
         "name": "Bufala",
         "showlegend": true,
         "x": [
          2002,
          2003,
          2004,
          2005,
          2006,
          2007,
          2008,
          2009,
          2010,
          2011,
          2012,
          2013,
          2014,
          2015,
          2016,
          2017,
          2018,
          2019,
          2020,
          2021
         ],
         "xaxis": "x",
         "y": [
          1375,
          4490,
          5540,
          6885,
          12139,
          8637,
          5296,
          4172,
          4508,
          3343,
          4948,
          3687,
          6795,
          5974,
          4348,
          4483,
          5034,
          4955,
          5183,
          400
         ],
         "yaxis": "y",
         "type": "scattergl"
        },
        {
         "hovertemplate": "Espécie=Bufalo<br>Ano=%{x}<br>Quantidade de Cabeças Abatidas=%{y}<extra></extra>",
         "legendgroup": "Bufalo",
         "line": {
          "color": "#636efa",
          "dash": "solid"
         },
         "marker": {
          "symbol": "circle"
         },
         "mode": "lines+markers",
         "name": "Bufalo",
         "showlegend": true,
         "x": [
          2002,
          2003,
          2004,
          2005,
          2006,
          2007,
          2008,
          2009,
          2010,
          2011,
          2012,
          2013,
          2014,
          2015,
          2016,
          2017,
          2018,
          2019,
          2020,
          2021
         ],
         "xaxis": "x",
         "y": [
          2811,
          7678,
          11103,
          10555,
          13191,
          13755,
          9811,
          6955,
          6973,
          5760,
          7112,
          7285,
          9933,
          7541,
          7572,
          7911,
          9935,
          8885,
          5316,
          368
         ],
         "yaxis": "y",
         "type": "scattergl"
        },
        {
         "hovertemplate": "Espécie=Capao<br>Ano=%{x}<br>Quantidade de Cabeças Abatidas=%{y}<extra></extra>",
         "legendgroup": "Capao",
         "line": {
          "color": "#EF553B",
          "dash": "solid"
         },
         "marker": {
          "symbol": "circle"
         },
         "mode": "lines+markers",
         "name": "Capao",
         "showlegend": true,
         "x": [
          2002,
          2003,
          2004,
          2005,
          2006,
          2007,
          2008,
          2009,
          2010,
          2011,
          2012,
          2013,
          2014,
          2019
         ],
         "xaxis": "x",
         "y": [
          3497,
          8747,
          15428,
          7155,
          14273,
          15979,
          10797,
          11635,
          41549,
          24817,
          6316,
          1714,
          1113,
          127
         ],
         "yaxis": "y",
         "type": "scattergl"
        },
        {
         "hovertemplate": "Espécie=Caprino<br>Ano=%{x}<br>Quantidade de Cabeças Abatidas=%{y}<extra></extra>",
         "legendgroup": "Caprino",
         "line": {
          "color": "#00cc96",
          "dash": "solid"
         },
         "marker": {
          "symbol": "circle"
         },
         "mode": "lines+markers",
         "name": "Caprino",
         "showlegend": true,
         "x": [
          2002,
          2003,
          2004,
          2005,
          2006,
          2007,
          2008,
          2009,
          2010,
          2011,
          2012,
          2013,
          2014,
          2015,
          2016,
          2017,
          2018,
          2019,
          2020,
          2021,
          2022,
          2024
         ],
         "xaxis": "x",
         "y": [
          430,
          2580,
          5902,
          6896,
          6855,
          4102,
          3587,
          4658,
          4409,
          7611,
          8424,
          7730,
          883,
          267,
          105,
          311,
          41,
          224,
          286,
          174,
          120,
          6134
         ],
         "yaxis": "y",
         "type": "scattergl"
        },
        {
         "hovertemplate": "Espécie=Codorna<br>Ano=%{x}<br>Quantidade de Cabeças Abatidas=%{y}<extra></extra>",
         "legendgroup": "Codorna",
         "line": {
          "color": "#ab63fa",
          "dash": "solid"
         },
         "marker": {
          "symbol": "circle"
         },
         "mode": "lines+markers",
         "name": "Codorna",
         "showlegend": true,
         "x": [
          2002,
          2003,
          2004,
          2005,
          2006,
          2007,
          2008,
          2009,
          2010,
          2011,
          2012,
          2013,
          2014,
          2015,
          2016,
          2023,
          2024,
          2025
         ],
         "xaxis": "x",
         "y": [
          434773,
          4456518,
          5678873,
          5988336,
          6056082,
          5844416,
          6498616,
          5823886,
          4788433,
          6053950,
          6149560,
          5560683,
          5932148,
          4168125,
          4361568,
          1200863,
          1998533,
          1013865
         ],
         "yaxis": "y",
         "type": "scattergl"
        },
        {
         "hovertemplate": "Espécie=Coelho<br>Ano=%{x}<br>Quantidade de Cabeças Abatidas=%{y}<extra></extra>",
         "legendgroup": "Coelho",
         "line": {
          "color": "#FFA15A",
          "dash": "solid"
         },
         "marker": {
          "symbol": "circle"
         },
         "mode": "lines+markers",
         "name": "Coelho",
         "showlegend": true,
         "x": [
          2002,
          2003,
          2004,
          2005,
          2006,
          2007,
          2008,
          2009,
          2010,
          2011,
          2012,
          2013,
          2014,
          2015,
          2016,
          2017,
          2018,
          2019,
          2020,
          2021,
          2022,
          2023,
          2024,
          2025
         ],
         "xaxis": "x",
         "y": [
          1080,
          43998,
          74226,
          53390,
          57189,
          71752,
          67669,
          62141,
          56053,
          63292,
          40718,
          13892,
          8939,
          12265,
          29046,
          44595,
          21451,
          17556,
          17968,
          19618,
          24916,
          103242,
          27613,
          7857
         ],
         "yaxis": "y",
         "type": "scattergl"
        },
        {
         "hovertemplate": "Espécie=Cordeira<br>Ano=%{x}<br>Quantidade de Cabeças Abatidas=%{y}<extra></extra>",
         "legendgroup": "Cordeira",
         "line": {
          "color": "#19d3f3",
          "dash": "solid"
         },
         "marker": {
          "symbol": "circle"
         },
         "mode": "lines+markers",
         "name": "Cordeira",
         "showlegend": true,
         "x": [
          2002,
          2003,
          2004,
          2005,
          2006,
          2007,
          2008,
          2009,
          2010,
          2011,
          2012,
          2013,
          2014,
          2015,
          2016,
          2017,
          2018,
          2019,
          2020,
          2021
         ],
         "xaxis": "x",
         "y": [
          361,
          905,
          374,
          977,
          4129,
          2690,
          4497,
          1951,
          2528,
          4358,
          1979,
          1951,
          3584,
          1120,
          1075,
          4174,
          875,
          1143,
          1029,
          115
         ],
         "yaxis": "y",
         "type": "scattergl"
        },
        {
         "hovertemplate": "Espécie=Cordeiro<br>Ano=%{x}<br>Quantidade de Cabeças Abatidas=%{y}<extra></extra>",
         "legendgroup": "Cordeiro",
         "line": {
          "color": "#FF6692",
          "dash": "solid"
         },
         "marker": {
          "symbol": "circle"
         },
         "mode": "lines+markers",
         "name": "Cordeiro",
         "showlegend": true,
         "x": [
          2002,
          2003,
          2004,
          2005,
          2006,
          2007,
          2008,
          2009,
          2010,
          2011,
          2012,
          2013,
          2014,
          2015,
          2016,
          2017,
          2018,
          2019,
          2020,
          2021
         ],
         "xaxis": "x",
         "y": [
          28841,
          22043,
          32710,
          21443,
          71636,
          86540,
          69230,
          129737,
          81780,
          49423,
          42794,
          16261,
          17119,
          6197,
          4144,
          5405,
          4349,
          5715,
          5603,
          1061
         ],
         "yaxis": "y",
         "type": "scattergl"
        },
        {
         "hovertemplate": "Espécie=Ema<br>Ano=%{x}<br>Quantidade de Cabeças Abatidas=%{y}<extra></extra>",
         "legendgroup": "Ema",
         "line": {
          "color": "#B6E880",
          "dash": "solid"
         },
         "marker": {
          "symbol": "circle"
         },
         "mode": "lines+markers",
         "name": "Ema",
         "showlegend": true,
         "x": [
          2002,
          2003,
          2004,
          2005,
          2010,
          2020
         ],
         "xaxis": "x",
         "y": [
          355,
          63,
          280,
          10,
          28302,
          20587
         ],
         "yaxis": "y",
         "type": "scattergl"
        },
        {
         "hovertemplate": "Espécie=Equino<br>Ano=%{x}<br>Quantidade de Cabeças Abatidas=%{y}<extra></extra>",
         "legendgroup": "Equino",
         "line": {
          "color": "#FF97FF",
          "dash": "solid"
         },
         "marker": {
          "symbol": "circle"
         },
         "mode": "lines+markers",
         "name": "Equino",
         "showlegend": true,
         "x": [
          2002,
          2003,
          2004,
          2005,
          2006,
          2007,
          2008,
          2009,
          2010,
          2011,
          2012,
          2013,
          2014,
          2015,
          2016,
          2017,
          2018,
          2019,
          2020,
          2021,
          2022,
          2023,
          2024,
          2025
         ],
         "xaxis": "x",
         "y": [
          48463,
          144053,
          194072,
          192273,
          144297,
          117658,
          87396,
          71735,
          27727,
          17947,
          19938,
          13872,
          17174,
          21520,
          22660,
          12990,
          17149,
          32297,
          33877,
          50270,
          41230,
          33500,
          27649,
          10046
         ],
         "yaxis": "y",
         "type": "scattergl"
        },
        {
         "hovertemplate": "Espécie=FaizÃ£o<br>Ano=%{x}<br>Quantidade de Cabeças Abatidas=%{y}<extra></extra>",
         "legendgroup": "FaizÃ£o",
         "line": {
          "color": "#FECB52",
          "dash": "solid"
         },
         "marker": {
          "symbol": "circle"
         },
         "mode": "lines+markers",
         "name": "FaizÃ£o",
         "showlegend": true,
         "x": [
          2002,
          2003,
          2004,
          2005,
          2006,
          2007,
          2008,
          2009,
          2010,
          2011,
          2012,
          2013,
          2014,
          2015,
          2016,
          2017,
          2018,
          2019,
          2020,
          2021
         ],
         "xaxis": "x",
         "y": [
          436525,
          216633,
          2141929,
          6454361,
          2759324,
          1206448,
          1785509,
          954550,
          2385717,
          2518878,
          305421,
          61964,
          1762310,
          260350,
          5193,
          86194,
          183747,
          9732,
          551507,
          34705
         ],
         "yaxis": "y",
         "type": "scattergl"
        },
        {
         "hovertemplate": "Espécie=Galeto<br>Ano=%{x}<br>Quantidade de Cabeças Abatidas=%{y}<extra></extra>",
         "legendgroup": "Galeto",
         "line": {
          "color": "#636efa",
          "dash": "solid"
         },
         "marker": {
          "symbol": "circle"
         },
         "mode": "lines+markers",
         "name": "Galeto",
         "showlegend": true,
         "x": [
          2002,
          2003,
          2004,
          2005,
          2006,
          2007,
          2008,
          2009,
          2010,
          2011,
          2012,
          2013,
          2014,
          2015,
          2016,
          2017,
          2018,
          2019,
          2020,
          2021
         ],
         "xaxis": "x",
         "y": [
          1317401,
          246510,
          986851,
          2940863,
          7166137,
          11131034,
          11663461,
          17389191,
          11570242,
          5959150,
          5083641,
          21127488,
          11948191,
          18529975,
          13335349,
          13676609,
          13467264,
          13827143,
          12280811,
          935100
         ],
         "yaxis": "y",
         "type": "scattergl"
        },
        {
         "hovertemplate": "Espécie=Galinha<br>Ano=%{x}<br>Quantidade de Cabeças Abatidas=%{y}<extra></extra>",
         "legendgroup": "Galinha",
         "line": {
          "color": "#EF553B",
          "dash": "solid"
         },
         "marker": {
          "symbol": "circle"
         },
         "mode": "lines+markers",
         "name": "Galinha",
         "showlegend": true,
         "x": [
          2002,
          2003,
          2004,
          2005,
          2006,
          2007,
          2008,
          2009,
          2010,
          2011,
          2012,
          2013,
          2014,
          2015,
          2016,
          2017,
          2018,
          2019,
          2020,
          2021,
          2022,
          2023,
          2024,
          2025
         ],
         "xaxis": "x",
         "y": [
          907958,
          9041001,
          14110130,
          17018467,
          31385547,
          40114052,
          37410216,
          39349059,
          47994528,
          60247799,
          64166693,
          55061571,
          52896467,
          51852653,
          60277149,
          95684004,
          118295691,
          69318977,
          39343318,
          681049766,
          610109509,
          454094040,
          431999280,
          125083570
         ],
         "yaxis": "y",
         "type": "scattergl"
        },
        {
         "hovertemplate": "Espécie=Galinha De Postura<br>Ano=%{x}<br>Quantidade de Cabeças Abatidas=%{y}<extra></extra>",
         "legendgroup": "Galinha De Postura",
         "line": {
          "color": "#00cc96",
          "dash": "solid"
         },
         "marker": {
          "symbol": "circle"
         },
         "mode": "lines+markers",
         "name": "Galinha De Postura",
         "showlegend": true,
         "x": [
          2002,
          2003,
          2004,
          2005,
          2006,
          2007,
          2008,
          2009,
          2011,
          2012,
          2013,
          2014,
          2015,
          2016,
          2017,
          2018,
          2019,
          2020,
          2021
         ],
         "xaxis": "x",
         "y": [
          94802,
          264604,
          10964270,
          11047157,
          679082,
          546686,
          268647,
          71254,
          944416,
          1103808,
          2889749,
          2694061,
          4597367,
          5166235,
          6755425,
          6337205,
          10178406,
          27123426,
          2203052
         ],
         "yaxis": "y",
         "type": "scattergl"
        },
        {
         "hovertemplate": "Espécie=Javali<br>Ano=%{x}<br>Quantidade de Cabeças Abatidas=%{y}<extra></extra>",
         "legendgroup": "Javali",
         "line": {
          "color": "#ab63fa",
          "dash": "solid"
         },
         "marker": {
          "symbol": "circle"
         },
         "mode": "lines+markers",
         "name": "Javali",
         "showlegend": true,
         "x": [
          2002,
          2003,
          2004,
          2005,
          2006,
          2007,
          2008,
          2009,
          2010,
          2011,
          2012,
          2013,
          2014,
          2015,
          2016,
          2017,
          2022,
          2024,
          2025
         ],
         "xaxis": "x",
         "y": [
          2848,
          2961,
          3902,
          2544,
          1893,
          1681,
          2433,
          2376,
          1583,
          1382,
          1564,
          1983,
          1179,
          1103,
          647,
          65,
          182,
          101,
          161
         ],
         "yaxis": "y",
         "type": "scattergl"
        },
        {
         "hovertemplate": "Espécie=Leitao<br>Ano=%{x}<br>Quantidade de Cabeças Abatidas=%{y}<extra></extra>",
         "legendgroup": "Leitao",
         "line": {
          "color": "#FFA15A",
          "dash": "solid"
         },
         "marker": {
          "symbol": "circle"
         },
         "mode": "lines+markers",
         "name": "Leitao",
         "showlegend": true,
         "x": [
          2002,
          2003,
          2004,
          2005,
          2006,
          2007,
          2008,
          2009,
          2010,
          2011,
          2012,
          2013,
          2014,
          2015,
          2016,
          2017,
          2018,
          2019,
          2020,
          2021
         ],
         "xaxis": "x",
         "y": [
          5200,
          45146,
          60599,
          64497,
          71856,
          40258,
          53647,
          58471,
          27765,
          45859,
          22995,
          28953,
          14362,
          14043,
          10023,
          51817,
          80142,
          68920,
          14919,
          3323
         ],
         "yaxis": "y",
         "type": "scattergl"
        },
        {
         "hovertemplate": "Espécie=Muar<br>Ano=%{x}<br>Quantidade de Cabeças Abatidas=%{y}<extra></extra>",
         "legendgroup": "Muar",
         "line": {
          "color": "#19d3f3",
          "dash": "solid"
         },
         "marker": {
          "symbol": "circle"
         },
         "mode": "lines+markers",
         "name": "Muar",
         "showlegend": true,
         "x": [
          2002,
          2003,
          2004,
          2005,
          2006,
          2007,
          2008,
          2009,
          2010,
          2011,
          2012,
          2013,
          2014,
          2015,
          2016,
          2017,
          2018,
          2019,
          2020,
          2021,
          2022,
          2023,
          2024,
          2025
         ],
         "xaxis": "x",
         "y": [
          36,
          2353,
          3816,
          5275,
          4735,
          3438,
          3744,
          4478,
          1600,
          849,
          983,
          470,
          810,
          823,
          1205,
          562,
          607,
          267,
          2681,
          4223,
          2757,
          1708,
          1531,
          544
         ],
         "yaxis": "y",
         "type": "scattergl"
        },
        {
         "hovertemplate": "Espécie=Novilha Intermediaria<br>Ano=%{x}<br>Quantidade de Cabeças Abatidas=%{y}<extra></extra>",
         "legendgroup": "Novilha Intermediaria",
         "line": {
          "color": "#FF6692",
          "dash": "solid"
         },
         "marker": {
          "symbol": "circle"
         },
         "mode": "lines+markers",
         "name": "Novilha Intermediaria",
         "showlegend": true,
         "x": [
          2002,
          2003,
          2004,
          2005,
          2006,
          2007,
          2008,
          2009,
          2010,
          2011,
          2012,
          2013,
          2014,
          2015,
          2016,
          2017,
          2018,
          2019,
          2020,
          2021
         ],
         "xaxis": "x",
         "y": [
          6311,
          14491,
          58401,
          99049,
          146193,
          129762,
          92794,
          91283,
          93729,
          102817,
          134269,
          172439,
          200109,
          137763,
          138999,
          191407,
          196531,
          163699,
          270397,
          9881
         ],
         "yaxis": "y",
         "type": "scattergl"
        },
        {
         "hovertemplate": "Espécie=Novilha Precoce<br>Ano=%{x}<br>Quantidade de Cabeças Abatidas=%{y}<extra></extra>",
         "legendgroup": "Novilha Precoce",
         "line": {
          "color": "#B6E880",
          "dash": "solid"
         },
         "marker": {
          "symbol": "circle"
         },
         "mode": "lines+markers",
         "name": "Novilha Precoce",
         "showlegend": true,
         "x": [
          2002,
          2003,
          2004,
          2005,
          2006,
          2007,
          2008,
          2009,
          2010,
          2011,
          2012,
          2013,
          2014,
          2015,
          2016,
          2017,
          2018,
          2019,
          2020,
          2021
         ],
         "xaxis": "x",
         "y": [
          15548,
          9956,
          31008,
          56397,
          61646,
          36963,
          57938,
          55458,
          47029,
          44012,
          74610,
          173166,
          146530,
          96260,
          121377,
          96577,
          59530,
          53218,
          48427,
          2645
         ],
         "yaxis": "y",
         "type": "scattergl"
        },
        {
         "hovertemplate": "Espécie=Novilhao<br>Ano=%{x}<br>Quantidade de Cabeças Abatidas=%{y}<extra></extra>",
         "legendgroup": "Novilhao",
         "line": {
          "color": "#FF97FF",
          "dash": "solid"
         },
         "marker": {
          "symbol": "circle"
         },
         "mode": "lines+markers",
         "name": "Novilhao",
         "showlegend": true,
         "x": [
          2002,
          2003,
          2004,
          2005,
          2006,
          2007,
          2008,
          2009,
          2010,
          2011,
          2012,
          2013,
          2014,
          2015,
          2016,
          2017,
          2018,
          2019,
          2020,
          2021
         ],
         "xaxis": "x",
         "y": [
          868892,
          1584214,
          1990397,
          2003504,
          2194007,
          2334219,
          1915634,
          2037815,
          2006204,
          1820050,
          1907720,
          2139291,
          1958501,
          1303654,
          1407885,
          1313276,
          1074282,
          883496,
          643709,
          23688
         ],
         "yaxis": "y",
         "type": "scattergl"
        },
        {
         "hovertemplate": "Espécie=Novilho Intermediario<br>Ano=%{x}<br>Quantidade de Cabeças Abatidas=%{y}<extra></extra>",
         "legendgroup": "Novilho Intermediario",
         "line": {
          "color": "#FECB52",
          "dash": "solid"
         },
         "marker": {
          "symbol": "circle"
         },
         "mode": "lines+markers",
         "name": "Novilho Intermediario",
         "showlegend": true,
         "x": [
          2002,
          2003,
          2004,
          2005,
          2006,
          2007,
          2008,
          2009,
          2010,
          2011,
          2012,
          2013,
          2014,
          2015,
          2016,
          2017,
          2018,
          2019,
          2020,
          2021
         ],
         "xaxis": "x",
         "y": [
          28641,
          203594,
          339184,
          323612,
          321955,
          300607,
          227237,
          87053,
          143691,
          149243,
          162096,
          290867,
          313364,
          430320,
          434538,
          510132,
          520672,
          477765,
          687036,
          12211
         ],
         "yaxis": "y",
         "type": "scattergl"
        },
        {
         "hovertemplate": "Espécie=Novilho Precoce<br>Ano=%{x}<br>Quantidade de Cabeças Abatidas=%{y}<extra></extra>",
         "legendgroup": "Novilho Precoce",
         "line": {
          "color": "#636efa",
          "dash": "solid"
         },
         "marker": {
          "symbol": "circle"
         },
         "mode": "lines+markers",
         "name": "Novilho Precoce",
         "showlegend": true,
         "x": [
          2002,
          2003,
          2004,
          2005,
          2006,
          2007,
          2008,
          2009,
          2010,
          2011,
          2012,
          2013,
          2014,
          2015,
          2016,
          2017,
          2018,
          2019,
          2020,
          2021
         ],
         "xaxis": "x",
         "y": [
          241301,
          43425,
          148156,
          211155,
          322242,
          248868,
          248119,
          251364,
          199803,
          161326,
          309600,
          459222,
          484995,
          482574,
          455988,
          526671,
          470163,
          336482,
          377942,
          20383
         ],
         "yaxis": "y",
         "type": "scattergl"
        },
        {
         "hovertemplate": "Espécie=Novilhona<br>Ano=%{x}<br>Quantidade de Cabeças Abatidas=%{y}<extra></extra>",
         "legendgroup": "Novilhona",
         "line": {
          "color": "#EF553B",
          "dash": "solid"
         },
         "marker": {
          "symbol": "circle"
         },
         "mode": "lines+markers",
         "name": "Novilhona",
         "showlegend": true,
         "x": [
          2002,
          2003,
          2004,
          2005,
          2006,
          2007,
          2008,
          2009,
          2010,
          2011,
          2012,
          2013,
          2014,
          2015,
          2016,
          2017,
          2018,
          2019,
          2020,
          2021
         ],
         "xaxis": "x",
         "y": [
          285801,
          624890,
          753374,
          842427,
          988157,
          740606,
          573238,
          531030,
          417874,
          629365,
          752792,
          789362,
          691517,
          555057,
          497768,
          630647,
          699123,
          473366,
          136556,
          2999
         ],
         "yaxis": "y",
         "type": "scattergl"
        },
        {
         "hovertemplate": "Espécie=Ovelha<br>Ano=%{x}<br>Quantidade de Cabeças Abatidas=%{y}<extra></extra>",
         "legendgroup": "Ovelha",
         "line": {
          "color": "#00cc96",
          "dash": "solid"
         },
         "marker": {
          "symbol": "circle"
         },
         "mode": "lines+markers",
         "name": "Ovelha",
         "showlegend": true,
         "x": [
          2002,
          2003,
          2004,
          2005,
          2006,
          2007,
          2008,
          2009,
          2010,
          2011,
          2012,
          2013,
          2014,
          2015,
          2016,
          2017,
          2018,
          2019,
          2020,
          2021,
          2022
         ],
         "xaxis": "x",
         "y": [
          17912,
          12637,
          7048,
          11087,
          31330,
          76332,
          83392,
          133686,
          128395,
          69152,
          43873,
          17999,
          8700,
          104,
          423,
          758,
          24,
          350,
          106,
          136,
          24
         ],
         "yaxis": "y",
         "type": "scattergl"
        },
        {
         "hovertemplate": "Espécie=Ovino<br>Ano=%{x}<br>Quantidade de Cabeças Abatidas=%{y}<extra></extra>",
         "legendgroup": "Ovino",
         "line": {
          "color": "#ab63fa",
          "dash": "solid"
         },
         "marker": {
          "symbol": "circle"
         },
         "mode": "lines+markers",
         "name": "Ovino",
         "showlegend": true,
         "x": [
          2002,
          2003,
          2004,
          2005,
          2006,
          2007,
          2008,
          2009,
          2010,
          2011,
          2012,
          2013,
          2014,
          2015,
          2016,
          2017,
          2018,
          2019,
          2020,
          2021,
          2022,
          2023,
          2024,
          2025
         ],
         "xaxis": "x",
         "y": [
          61651,
          34670,
          79443,
          121882,
          107091,
          87246,
          83554,
          67988,
          61372,
          118644,
          142855,
          91165,
          65448,
          56656,
          38871,
          46405,
          52753,
          44430,
          24666,
          41324,
          44057,
          36649,
          52665,
          31154
         ],
         "yaxis": "y",
         "type": "scattergl"
        },
        {
         "hovertemplate": "Espécie=Peru<br>Ano=%{x}<br>Quantidade de Cabeças Abatidas=%{y}<extra></extra>",
         "legendgroup": "Peru",
         "line": {
          "color": "#FFA15A",
          "dash": "solid"
         },
         "marker": {
          "symbol": "circle"
         },
         "mode": "lines+markers",
         "name": "Peru",
         "showlegend": true,
         "x": [
          2002,
          2003,
          2004,
          2005,
          2006,
          2007,
          2008,
          2009,
          2010,
          2011,
          2012,
          2013,
          2014,
          2015,
          2016,
          2017,
          2018,
          2019,
          2020,
          2021,
          2022,
          2023,
          2024,
          2025
         ],
         "xaxis": "x",
         "y": [
          985365,
          25814743,
          24448374,
          29384280,
          35220820,
          41340539,
          46899773,
          38045661,
          33983280,
          34569382,
          38322114,
          33154273,
          30436801,
          31209781,
          31894287,
          28057371,
          18725524,
          14230023,
          14273596,
          14732616,
          15368183,
          16518020,
          16329763,
          5756799
         ],
         "yaxis": "y",
         "type": "scattergl"
        },
        {
         "hovertemplate": "Espécie=Porco Matrizeiro<br>Ano=%{x}<br>Quantidade de Cabeças Abatidas=%{y}<extra></extra>",
         "legendgroup": "Porco Matrizeiro",
         "line": {
          "color": "#19d3f3",
          "dash": "solid"
         },
         "marker": {
          "symbol": "circle"
         },
         "mode": "lines+markers",
         "name": "Porco Matrizeiro",
         "showlegend": true,
         "x": [
          2002,
          2003,
          2004,
          2005,
          2006,
          2007,
          2008,
          2009,
          2010,
          2011,
          2012,
          2013,
          2014,
          2015,
          2016,
          2017,
          2018,
          2019,
          2020,
          2021
         ],
         "xaxis": "x",
         "y": [
          3006,
          11370,
          5192,
          7842,
          15710,
          10077,
          8180,
          6327,
          4463,
          9217,
          10831,
          3560,
          1140,
          1634,
          2552,
          3434,
          2377,
          5589,
          5947,
          628
         ],
         "yaxis": "y",
         "type": "scattergl"
        },
        {
         "hovertemplate": "Espécie=Suino Tipo Banha,<br>Ano=%{x}<br>Quantidade de Cabeças Abatidas=%{y}<extra></extra>",
         "legendgroup": "Suino Tipo Banha,",
         "line": {
          "color": "#FF6692",
          "dash": "solid"
         },
         "marker": {
          "symbol": "circle"
         },
         "mode": "lines+markers",
         "name": "Suino Tipo Banha,",
         "showlegend": true,
         "x": [
          2002,
          2003,
          2004,
          2005,
          2006,
          2007,
          2008,
          2009,
          2010,
          2011,
          2012,
          2013,
          2014,
          2015,
          2016,
          2017,
          2018,
          2019,
          2020,
          2021
         ],
         "xaxis": "x",
         "y": [
          3701,
          25294,
          15255,
          8216,
          32199,
          38426,
          9623,
          13117,
          34097,
          28643,
          20478,
          11471,
          39991,
          36225,
          6277,
          8969,
          7891,
          7171,
          9673,
          53
         ],
         "yaxis": "y",
         "type": "scattergl"
        },
        {
         "hovertemplate": "Espécie=Touro/Touruno<br>Ano=%{x}<br>Quantidade de Cabeças Abatidas=%{y}<extra></extra>",
         "legendgroup": "Touro/Touruno",
         "line": {
          "color": "#B6E880",
          "dash": "solid"
         },
         "marker": {
          "symbol": "circle"
         },
         "mode": "lines+markers",
         "name": "Touro/Touruno",
         "showlegend": true,
         "x": [
          2002,
          2003,
          2004,
          2005,
          2006,
          2007,
          2008,
          2009,
          2010,
          2011,
          2012,
          2013,
          2014,
          2015,
          2016,
          2017,
          2018,
          2019,
          2020,
          2021
         ],
         "xaxis": "x",
         "y": [
          1056,
          47010,
          109350,
          92226,
          91739,
          107218,
          194158,
          248159,
          355687,
          448094,
          566523,
          691782,
          752864,
          780758,
          760954,
          792150,
          844725,
          872763,
          741303,
          21639
         ],
         "yaxis": "y",
         "type": "scattergl"
        },
        {
         "hovertemplate": "Espécie=Vaca<br>Ano=%{x}<br>Quantidade de Cabeças Abatidas=%{y}<extra></extra>",
         "legendgroup": "Vaca",
         "line": {
          "color": "#FF97FF",
          "dash": "solid"
         },
         "marker": {
          "symbol": "circle"
         },
         "mode": "lines+markers",
         "name": "Vaca",
         "showlegend": true,
         "x": [
          2002,
          2003,
          2004,
          2005,
          2006,
          2007,
          2008,
          2009,
          2010,
          2011,
          2012,
          2013,
          2014,
          2015,
          2016,
          2017,
          2018,
          2019,
          2020,
          2021
         ],
         "xaxis": "x",
         "y": [
          125615,
          462898,
          801293,
          951489,
          1136925,
          988920,
          871972,
          646826,
          810566,
          927405,
          1049116,
          1246650,
          1022315,
          901120,
          916570,
          1122918,
          1321242,
          1203072,
          799155,
          31754
         ],
         "yaxis": "y",
         "type": "scattergl"
        },
        {
         "hovertemplate": "Espécie=Avestruz<br>Ano=%{x}<br>Quantidade de Cabeças Abatidas=%{y}<extra></extra>",
         "legendgroup": "Avestruz",
         "line": {
          "color": "#FECB52",
          "dash": "solid"
         },
         "marker": {
          "symbol": "circle"
         },
         "mode": "lines+markers",
         "name": "Avestruz",
         "showlegend": true,
         "x": [
          2003,
          2004,
          2005,
          2006,
          2007,
          2008,
          2009,
          2010,
          2011,
          2012,
          2013,
          2014,
          2015,
          2016,
          2017,
          2018,
          2019,
          2020,
          2021
         ],
         "xaxis": "x",
         "y": [
          109,
          668,
          1758,
          5826,
          15420,
          5089,
          62654,
          42753,
          3733,
          2459,
          84099,
          1248,
          1229,
          594,
          828,
          9895,
          624,
          62364,
          96
         ],
         "yaxis": "y",
         "type": "scattergl"
        },
        {
         "hovertemplate": "Espécie=Cabrito<br>Ano=%{x}<br>Quantidade de Cabeças Abatidas=%{y}<extra></extra>",
         "legendgroup": "Cabrito",
         "line": {
          "color": "#636efa",
          "dash": "solid"
         },
         "marker": {
          "symbol": "circle"
         },
         "mode": "lines+markers",
         "name": "Cabrito",
         "showlegend": true,
         "x": [
          2003,
          2004,
          2005,
          2006,
          2007,
          2008,
          2009,
          2010,
          2011,
          2012,
          2013,
          2014,
          2015,
          2016,
          2017,
          2018,
          2019,
          2020
         ],
         "xaxis": "x",
         "y": [
          373,
          222,
          73,
          291,
          1016,
          631,
          164,
          98,
          197,
          822,
          451,
          1455,
          3341,
          1607,
          2504,
          75,
          12,
          50
         ],
         "yaxis": "y",
         "type": "scattergl"
        },
        {
         "hovertemplate": "Espécie=Capivara<br>Ano=%{x}<br>Quantidade de Cabeças Abatidas=%{y}<extra></extra>",
         "legendgroup": "Capivara",
         "line": {
          "color": "#EF553B",
          "dash": "solid"
         },
         "marker": {
          "symbol": "circle"
         },
         "mode": "lines+markers",
         "name": "Capivara",
         "showlegend": true,
         "x": [
          2003,
          2004,
          2005,
          2006,
          2008,
          2009,
          2010,
          2011,
          2012,
          2013,
          2015,
          2022,
          2024,
          2025
         ],
         "xaxis": "x",
         "y": [
          55,
          132,
          72,
          35,
          75,
          117,
          71,
          10,
          60,
          6,
          40,
          314,
          306,
          38
         ],
         "yaxis": "y",
         "type": "scattergl"
        },
        {
         "hovertemplate": "Espécie=Cateto<br>Ano=%{x}<br>Quantidade de Cabeças Abatidas=%{y}<extra></extra>",
         "legendgroup": "Cateto",
         "line": {
          "color": "#00cc96",
          "dash": "solid"
         },
         "marker": {
          "symbol": "circle"
         },
         "mode": "lines+markers",
         "name": "Cateto",
         "showlegend": true,
         "x": [
          2003,
          2005,
          2006,
          2008,
          2009,
          2010,
          2011,
          2012,
          2013,
          2014,
          2016
         ],
         "xaxis": "x",
         "y": [
          20,
          26,
          24,
          4,
          61,
          24,
          33,
          49,
          35,
          0,
          0
         ],
         "yaxis": "y",
         "type": "scattergl"
        },
        {
         "hovertemplate": "Espécie=Coelha<br>Ano=%{x}<br>Quantidade de Cabeças Abatidas=%{y}<extra></extra>",
         "legendgroup": "Coelha",
         "line": {
          "color": "#ab63fa",
          "dash": "solid"
         },
         "marker": {
          "symbol": "circle"
         },
         "mode": "lines+markers",
         "name": "Coelha",
         "showlegend": true,
         "x": [
          2003,
          2004,
          2005,
          2006,
          2007,
          2008,
          2009,
          2010,
          2011,
          2012,
          2013,
          2014,
          2015,
          2019
         ],
         "xaxis": "x",
         "y": [
          19181,
          14291,
          7520,
          10773,
          12031,
          17544,
          22214,
          13692,
          9877,
          6619,
          462,
          175,
          250,
          70
         ],
         "yaxis": "y",
         "type": "scattergl"
        },
        {
         "hovertemplate": "Espécie=Galinha Dangola<br>Ano=%{x}<br>Quantidade de Cabeças Abatidas=%{y}<extra></extra>",
         "legendgroup": "Galinha Dangola",
         "line": {
          "color": "#FFA15A",
          "dash": "solid"
         },
         "marker": {
          "symbol": "circle"
         },
         "mode": "lines+markers",
         "name": "Galinha Dangola",
         "showlegend": true,
         "x": [
          2003,
          2004,
          2005,
          2006,
          2007,
          2008,
          2009,
          2010,
          2013,
          2014,
          2015,
          2016,
          2018,
          2020
         ],
         "xaxis": "x",
         "y": [
          9709,
          5102,
          12982,
          5132,
          10313,
          9084,
          27224,
          7571,
          1802,
          3832,
          365,
          197,
          332624,
          30911
         ],
         "yaxis": "y",
         "type": "scattergl"
        },
        {
         "hovertemplate": "Espécie=Galo<br>Ano=%{x}<br>Quantidade de Cabeças Abatidas=%{y}<extra></extra>",
         "legendgroup": "Galo",
         "line": {
          "color": "#19d3f3",
          "dash": "solid"
         },
         "marker": {
          "symbol": "circle"
         },
         "mode": "lines+markers",
         "name": "Galo",
         "showlegend": true,
         "x": [
          2003,
          2004,
          2005,
          2006,
          2007,
          2008,
          2009,
          2010,
          2011,
          2012,
          2013,
          2014,
          2015,
          2016,
          2017,
          2018,
          2019,
          2020,
          2021,
          2022,
          2023,
          2024,
          2025
         ],
         "xaxis": "x",
         "y": [
          24066,
          34758,
          172449,
          248013,
          238938,
          144747,
          310056,
          562945,
          1056995,
          1628237,
          1263557,
          1507158,
          1555658,
          1852738,
          1952370,
          1841343,
          1608434,
          1792798,
          213471,
          188980,
          290944,
          349171,
          80292
         ],
         "yaxis": "y",
         "type": "scattergl"
        },
        {
         "hovertemplate": "Espécie=Marreco<br>Ano=%{x}<br>Quantidade de Cabeças Abatidas=%{y}<extra></extra>",
         "legendgroup": "Marreco",
         "line": {
          "color": "#FF6692",
          "dash": "solid"
         },
         "marker": {
          "symbol": "circle"
         },
         "mode": "lines+markers",
         "name": "Marreco",
         "showlegend": true,
         "x": [
          2003,
          2004,
          2005,
          2006,
          2007,
          2008,
          2009,
          2010,
          2011,
          2012,
          2013,
          2014,
          2015,
          2016,
          2017,
          2018,
          2019
         ],
         "xaxis": "x",
         "y": [
          120259,
          234044,
          373388,
          441623,
          373305,
          185836,
          246180,
          193101,
          228391,
          228114,
          72730,
          90331,
          74445,
          65906,
          131328,
          94771,
          216910
         ],
         "yaxis": "y",
         "type": "scattergl"
        },
        {
         "hovertemplate": "Espécie=Nonato<br>Ano=%{x}<br>Quantidade de Cabeças Abatidas=%{y}<extra></extra>",
         "legendgroup": "Nonato",
         "line": {
          "color": "#B6E880",
          "dash": "solid"
         },
         "marker": {
          "symbol": "circle"
         },
         "mode": "lines+markers",
         "name": "Nonato",
         "showlegend": true,
         "x": [
          2003,
          2004,
          2005,
          2006,
          2007,
          2008,
          2009,
          2010,
          2011,
          2012,
          2013,
          2014,
          2015,
          2016,
          2017,
          2018,
          2019,
          2020,
          2021
         ],
         "xaxis": "x",
         "y": [
          333,
          387,
          1736,
          2648,
          2343,
          3485,
          459,
          1138,
          758,
          1377,
          653,
          1259,
          1202,
          589,
          1626,
          1155,
          280,
          1224,
          20
         ],
         "yaxis": "y",
         "type": "scattergl"
        },
        {
         "hovertemplate": "Espécie=Pato<br>Ano=%{x}<br>Quantidade de Cabeças Abatidas=%{y}<extra></extra>",
         "legendgroup": "Pato",
         "line": {
          "color": "#FF97FF",
          "dash": "solid"
         },
         "marker": {
          "symbol": "circle"
         },
         "mode": "lines+markers",
         "name": "Pato",
         "showlegend": true,
         "x": [
          2003,
          2004,
          2005,
          2006,
          2007,
          2008,
          2009,
          2010,
          2011,
          2012,
          2013,
          2014,
          2015,
          2016,
          2017,
          2018,
          2019,
          2020,
          2021,
          2022,
          2023,
          2024,
          2025
         ],
         "xaxis": "x",
         "y": [
          95443,
          391251,
          919915,
          999130,
          602709,
          1095429,
          1178740,
          1697373,
          1657787,
          2727813,
          970162,
          1657142,
          1933061,
          1946204,
          2406571,
          2658758,
          2123452,
          2028298,
          2499269,
          2501095,
          2521666,
          2662571,
          748669
         ],
         "yaxis": "y",
         "type": "scattergl"
        },
        {
         "hovertemplate": "Espécie=Perdiz<br>Ano=%{x}<br>Quantidade de Cabeças Abatidas=%{y}<extra></extra>",
         "legendgroup": "Perdiz",
         "line": {
          "color": "#FECB52",
          "dash": "solid"
         },
         "marker": {
          "symbol": "circle"
         },
         "mode": "lines+markers",
         "name": "Perdiz",
         "showlegend": true,
         "x": [
          2003,
          2004,
          2005,
          2006,
          2007,
          2008,
          2009,
          2021,
          2023
         ],
         "xaxis": "x",
         "y": [
          226221,
          300661,
          231909,
          531830,
          214561,
          236456,
          190786,
          16845,
          3744
         ],
         "yaxis": "y",
         "type": "scattergl"
        },
        {
         "hovertemplate": "Espécie=Queixada<br>Ano=%{x}<br>Quantidade de Cabeças Abatidas=%{y}<extra></extra>",
         "legendgroup": "Queixada",
         "line": {
          "color": "#636efa",
          "dash": "solid"
         },
         "marker": {
          "symbol": "circle"
         },
         "mode": "lines+markers",
         "name": "Queixada",
         "showlegend": true,
         "x": [
          2003,
          2004,
          2005,
          2008,
          2009,
          2010,
          2011,
          2012,
          2013,
          2014,
          2015,
          2016,
          2022,
          2023
         ],
         "xaxis": "x",
         "y": [
          10,
          60,
          50,
          21,
          58,
          21,
          73,
          156,
          11,
          63,
          16,
          75,
          450,
          458
         ],
         "yaxis": "y",
         "type": "scattergl"
        },
        {
         "hovertemplate": "Espécie=Ra<br>Ano=%{x}<br>Quantidade de Cabeças Abatidas=%{y}<extra></extra>",
         "legendgroup": "Ra",
         "line": {
          "color": "#EF553B",
          "dash": "solid"
         },
         "marker": {
          "symbol": "circle"
         },
         "mode": "lines+markers",
         "name": "Ra",
         "showlegend": true,
         "x": [
          2003,
          2005,
          2009,
          2010,
          2011,
          2012,
          2013,
          2014,
          2015,
          2016
         ],
         "xaxis": "x",
         "y": [
          5,
          108,
          21410,
          46108,
          69565,
          155981,
          114224,
          176484,
          135622,
          1700
         ],
         "yaxis": "y",
         "type": "scattergl"
        },
        {
         "hovertemplate": "Espécie=Vitelo<br>Ano=%{x}<br>Quantidade de Cabeças Abatidas=%{y}<extra></extra>",
         "legendgroup": "Vitelo",
         "line": {
          "color": "#00cc96",
          "dash": "solid"
         },
         "marker": {
          "symbol": "circle"
         },
         "mode": "lines+markers",
         "name": "Vitelo",
         "showlegend": true,
         "x": [
          2003,
          2004,
          2005,
          2006,
          2007,
          2008,
          2009,
          2010,
          2011,
          2012,
          2013,
          2014,
          2015,
          2016,
          2017,
          2018,
          2019,
          2020,
          2021
         ],
         "xaxis": "x",
         "y": [
          13394,
          13054,
          28634,
          7251,
          29235,
          15693,
          10045,
          17481,
          20503,
          16116,
          18202,
          22059,
          33349,
          12884,
          14348,
          14972,
          17373,
          146,
          13
         ],
         "yaxis": "y",
         "type": "scattergl"
        },
        {
         "hovertemplate": "Espécie=Frango Especial<br>Ano=%{x}<br>Quantidade de Cabeças Abatidas=%{y}<extra></extra>",
         "legendgroup": "Frango Especial",
         "line": {
          "color": "#ab63fa",
          "dash": "solid"
         },
         "marker": {
          "symbol": "circle"
         },
         "mode": "lines+markers",
         "name": "Frango Especial",
         "showlegend": true,
         "x": [
          2004,
          2005,
          2006,
          2007,
          2008,
          2009,
          2010,
          2011,
          2012,
          2013,
          2014,
          2015,
          2016,
          2018,
          2019,
          2020,
          2021
         ],
         "xaxis": "x",
         "y": [
          12905261,
          3277662,
          124322,
          771122,
          477804,
          259176,
          425757,
          52616,
          141644,
          4330054,
          4142500,
          7362126,
          53942,
          93629,
          89248,
          5692356,
          88700
         ],
         "yaxis": "y",
         "type": "scattergl"
        },
        {
         "hovertemplate": "Espécie=Cabrita<br>Ano=%{x}<br>Quantidade de Cabeças Abatidas=%{y}<extra></extra>",
         "legendgroup": "Cabrita",
         "line": {
          "color": "#FFA15A",
          "dash": "solid"
         },
         "marker": {
          "symbol": "circle"
         },
         "mode": "lines+markers",
         "name": "Cabrita",
         "showlegend": true,
         "x": [
          2005,
          2006,
          2007,
          2008,
          2009,
          2010,
          2011,
          2012,
          2014,
          2015,
          2016,
          2017,
          2018
         ],
         "xaxis": "x",
         "y": [
          55,
          20,
          241,
          314,
          40,
          29,
          65,
          300,
          516,
          991,
          460,
          1162,
          179
         ],
         "yaxis": "y",
         "type": "scattergl"
        },
        {
         "hovertemplate": "Espécie=Avestruz FÃªmea<br>Ano=%{x}<br>Quantidade de Cabeças Abatidas=%{y}<extra></extra>",
         "legendgroup": "Avestruz FÃªmea",
         "line": {
          "color": "#19d3f3",
          "dash": "solid"
         },
         "marker": {
          "symbol": "circle"
         },
         "mode": "lines+markers",
         "name": "Avestruz FÃªmea",
         "showlegend": true,
         "x": [
          2006,
          2007,
          2008,
          2009,
          2010,
          2011,
          2012,
          2013,
          2014,
          2015,
          2016,
          2017
         ],
         "xaxis": "x",
         "y": [
          49,
          5564,
          3953,
          880,
          797,
          239,
          30,
          25,
          109,
          160,
          119,
          58
         ],
         "yaxis": "y",
         "type": "scattergl"
        },
        {
         "hovertemplate": "Espécie=RÃ£ Touro<br>Ano=%{x}<br>Quantidade de Cabeças Abatidas=%{y}<extra></extra>",
         "legendgroup": "RÃ£ Touro",
         "line": {
          "color": "#FF6692",
          "dash": "solid"
         },
         "marker": {
          "symbol": "circle"
         },
         "mode": "lines+markers",
         "name": "RÃ£ Touro",
         "showlegend": true,
         "x": [
          2009,
          2020,
          2021
         ],
         "xaxis": "x",
         "y": [
          21270,
          53718,
          7500
         ],
         "yaxis": "y",
         "type": "scattergl"
        },
        {
         "hovertemplate": "Espécie=Ganso<br>Ano=%{x}<br>Quantidade de Cabeças Abatidas=%{y}<extra></extra>",
         "legendgroup": "Ganso",
         "line": {
          "color": "#B6E880",
          "dash": "solid"
         },
         "marker": {
          "symbol": "circle"
         },
         "mode": "lines+markers",
         "name": "Ganso",
         "showlegend": true,
         "x": [
          2010,
          2011,
          2017,
          2018,
          2019
         ],
         "xaxis": "x",
         "y": [
          1470,
          1691,
          290,
          7098,
          7349
         ],
         "yaxis": "y",
         "type": "scattergl"
        },
        {
         "hovertemplate": "Espécie=Cutia<br>Ano=%{x}<br>Quantidade de Cabeças Abatidas=%{y}<extra></extra>",
         "legendgroup": "Cutia",
         "line": {
          "color": "#FF97FF",
          "dash": "solid"
         },
         "marker": {
          "symbol": "circle"
         },
         "mode": "lines+markers",
         "name": "Cutia",
         "showlegend": true,
         "x": [
          2012
         ],
         "xaxis": "x",
         "y": [
          24
         ],
         "yaxis": "y",
         "type": "scattergl"
        },
        {
         "hovertemplate": "Espécie=Paca<br>Ano=%{x}<br>Quantidade de Cabeças Abatidas=%{y}<extra></extra>",
         "legendgroup": "Paca",
         "line": {
          "color": "#FECB52",
          "dash": "solid"
         },
         "marker": {
          "symbol": "circle"
         },
         "mode": "lines+markers",
         "name": "Paca",
         "showlegend": true,
         "x": [
          2012,
          2013,
          2014,
          2015,
          2016
         ],
         "xaxis": "x",
         "y": [
          67,
          22,
          204,
          137,
          154
         ],
         "yaxis": "y",
         "type": "scattergl"
        },
        {
         "hovertemplate": "Espécie=Paca FÃªmea<br>Ano=%{x}<br>Quantidade de Cabeças Abatidas=%{y}<extra></extra>",
         "legendgroup": "Paca FÃªmea",
         "line": {
          "color": "#636efa",
          "dash": "solid"
         },
         "marker": {
          "symbol": "circle"
         },
         "mode": "lines+markers",
         "name": "Paca FÃªmea",
         "showlegend": true,
         "x": [
          2012,
          2013,
          2014,
          2015,
          2016
         ],
         "xaxis": "x",
         "y": [
          15,
          27,
          93,
          205,
          158
         ],
         "yaxis": "y",
         "type": "scattergl"
        },
        {
         "hovertemplate": "Espécie=Cutia FÃªmea<br>Ano=%{x}<br>Quantidade de Cabeças Abatidas=%{y}<extra></extra>",
         "legendgroup": "Cutia FÃªmea",
         "line": {
          "color": "#EF553B",
          "dash": "solid"
         },
         "marker": {
          "symbol": "circle"
         },
         "mode": "lines+markers",
         "name": "Cutia FÃªmea",
         "showlegend": true,
         "x": [
          2013
         ],
         "xaxis": "x",
         "y": [
          6
         ],
         "yaxis": "y",
         "type": "scattergl"
        },
        {
         "hovertemplate": "Espécie=RÃ£<br>Ano=%{x}<br>Quantidade de Cabeças Abatidas=%{y}<extra></extra>",
         "legendgroup": "RÃ£",
         "line": {
          "color": "#00cc96",
          "dash": "solid"
         },
         "marker": {
          "symbol": "circle"
         },
         "mode": "lines+markers",
         "name": "RÃ£",
         "showlegend": true,
         "x": [
          2017,
          2018,
          2019,
          2020,
          2021,
          2022,
          2023,
          2024,
          2025
         ],
         "xaxis": "x",
         "y": [
          24995,
          10990,
          17940,
          31731,
          12036,
          7800,
          12500,
          13100,
          6750
         ],
         "yaxis": "y",
         "type": "scattergl"
        },
        {
         "hovertemplate": "Espécie=TilÃ¡pia<br>Ano=%{x}<br>Quantidade de Cabeças Abatidas=%{y}<extra></extra>",
         "legendgroup": "TilÃ¡pia",
         "line": {
          "color": "#ab63fa",
          "dash": "solid"
         },
         "marker": {
          "symbol": "circle"
         },
         "mode": "lines+markers",
         "name": "TilÃ¡pia",
         "showlegend": true,
         "x": [
          2020,
          2021
         ],
         "xaxis": "x",
         "y": [
          6387783,
          597939
         ],
         "yaxis": "y",
         "type": "scattergl"
        },
        {
         "hovertemplate": "Espécie=Aves<br>Ano=%{x}<br>Quantidade de Cabeças Abatidas=%{y}<extra></extra>",
         "legendgroup": "Aves",
         "line": {
          "color": "#FFA15A",
          "dash": "solid"
         },
         "marker": {
          "symbol": "circle"
         },
         "mode": "lines+markers",
         "name": "Aves",
         "showlegend": true,
         "x": [
          2021,
          2022
         ],
         "xaxis": "x",
         "y": [
          1686617423,
          991363086
         ],
         "yaxis": "y",
         "type": "scattergl"
        },
        {
         "hovertemplate": "Espécie=Bagre africano<br>Ano=%{x}<br>Quantidade de Cabeças Abatidas=%{y}<extra></extra>",
         "legendgroup": "Bagre africano",
         "line": {
          "color": "#19d3f3",
          "dash": "solid"
         },
         "marker": {
          "symbol": "circle"
         },
         "mode": "lines+markers",
         "name": "Bagre africano",
         "showlegend": true,
         "x": [
          2021
         ],
         "xaxis": "x",
         "y": [
          20000
         ],
         "yaxis": "y",
         "type": "scattergl"
        },
        {
         "hovertemplate": "Espécie=Bubalino<br>Ano=%{x}<br>Quantidade de Cabeças Abatidas=%{y}<extra></extra>",
         "legendgroup": "Bubalino",
         "line": {
          "color": "#FF6692",
          "dash": "solid"
         },
         "marker": {
          "symbol": "circle"
         },
         "mode": "lines+markers",
         "name": "Bubalino",
         "showlegend": true,
         "x": [
          2021,
          2022,
          2023,
          2024,
          2025
         ],
         "xaxis": "x",
         "y": [
          8653,
          6384,
          5549,
          3046,
          1126
         ],
         "yaxis": "y",
         "type": "scattergl"
        },
        {
         "hovertemplate": "Espécie=Galinha-d'angola<br>Ano=%{x}<br>Quantidade de Cabeças Abatidas=%{y}<extra></extra>",
         "legendgroup": "Galinha-d'angola",
         "line": {
          "color": "#B6E880",
          "dash": "solid"
         },
         "marker": {
          "symbol": "circle"
         },
         "mode": "lines+markers",
         "name": "Galinha-d'angola",
         "showlegend": true,
         "x": [
          2021,
          2022,
          2023,
          2024,
          2025
         ],
         "xaxis": "x",
         "y": [
          3540,
          9072,
          12156,
          13238,
          3714
         ],
         "yaxis": "y",
         "type": "scattergl"
        },
        {
         "hovertemplate": "Espécie=JacarÃ© do pantanal<br>Ano=%{x}<br>Quantidade de Cabeças Abatidas=%{y}<extra></extra>",
         "legendgroup": "JacarÃ© do pantanal",
         "line": {
          "color": "#FF97FF",
          "dash": "solid"
         },
         "marker": {
          "symbol": "circle"
         },
         "mode": "lines+markers",
         "name": "JacarÃ© do pantanal",
         "showlegend": true,
         "x": [
          2021,
          2022
         ],
         "xaxis": "x",
         "y": [
          4428,
          1484
         ],
         "yaxis": "y",
         "type": "scattergl"
        },
        {
         "hovertemplate": "Espécie=JacarÃ©-do-papo-amarelo<br>Ano=%{x}<br>Quantidade de Cabeças Abatidas=%{y}<extra></extra>",
         "legendgroup": "JacarÃ©-do-papo-amarelo",
         "line": {
          "color": "#FECB52",
          "dash": "solid"
         },
         "marker": {
          "symbol": "circle"
         },
         "mode": "lines+markers",
         "name": "JacarÃ©-do-papo-amarelo",
         "showlegend": true,
         "x": [
          2021
         ],
         "xaxis": "x",
         "y": [
          691
         ],
         "yaxis": "y",
         "type": "scattergl"
        },
        {
         "hovertemplate": "Espécie=Lambari<br>Ano=%{x}<br>Quantidade de Cabeças Abatidas=%{y}<extra></extra>",
         "legendgroup": "Lambari",
         "line": {
          "color": "#636efa",
          "dash": "solid"
         },
         "marker": {
          "symbol": "circle"
         },
         "mode": "lines+markers",
         "name": "Lambari",
         "showlegend": true,
         "x": [
          2021
         ],
         "xaxis": "x",
         "y": [
          4200
         ],
         "yaxis": "y",
         "type": "scattergl"
        },
        {
         "hovertemplate": "Espécie=Outros anfÃ­bios<br>Ano=%{x}<br>Quantidade de Cabeças Abatidas=%{y}<extra></extra>",
         "legendgroup": "Outros anfÃ­bios",
         "line": {
          "color": "#EF553B",
          "dash": "solid"
         },
         "marker": {
          "symbol": "circle"
         },
         "mode": "lines+markers",
         "name": "Outros anfÃ­bios",
         "showlegend": true,
         "x": [
          2021,
          2022
         ],
         "xaxis": "x",
         "y": [
          25537,
          8142
         ],
         "yaxis": "y",
         "type": "scattergl"
        },
        {
         "hovertemplate": "Espécie=Panga, Pangasius<br>Ano=%{x}<br>Quantidade de Cabeças Abatidas=%{y}<extra></extra>",
         "legendgroup": "Panga, Pangasius",
         "line": {
          "color": "#00cc96",
          "dash": "solid"
         },
         "marker": {
          "symbol": "circle"
         },
         "mode": "lines+markers",
         "name": "Panga, Pangasius",
         "showlegend": true,
         "x": [
          2021,
          2022
         ],
         "xaxis": "x",
         "y": [
          27754,
          5166
         ],
         "yaxis": "y",
         "type": "scattergl"
        },
        {
         "hovertemplate": "Espécie=Peixe<br>Ano=%{x}<br>Quantidade de Cabeças Abatidas=%{y}<extra></extra>",
         "legendgroup": "Peixe",
         "line": {
          "color": "#ab63fa",
          "dash": "solid"
         },
         "marker": {
          "symbol": "circle"
         },
         "mode": "lines+markers",
         "name": "Peixe",
         "showlegend": true,
         "x": [
          2021,
          2022,
          2023,
          2024
         ],
         "xaxis": "x",
         "y": [
          24070708,
          5308288,
          1753028,
          83000
         ],
         "yaxis": "y",
         "type": "scattergl"
        },
        {
         "hovertemplate": "Espécie=PiauÃ§u<br>Ano=%{x}<br>Quantidade de Cabeças Abatidas=%{y}<extra></extra>",
         "legendgroup": "PiauÃ§u",
         "line": {
          "color": "#FFA15A",
          "dash": "solid"
         },
         "marker": {
          "symbol": "circle"
         },
         "mode": "lines+markers",
         "name": "PiauÃ§u",
         "showlegend": true,
         "x": [
          2021,
          2022
         ],
         "xaxis": "x",
         "y": [
          1521,
          25
         ],
         "yaxis": "y",
         "type": "scattergl"
        },
        {
         "hovertemplate": "Espécie=Pintado<br>Ano=%{x}<br>Quantidade de Cabeças Abatidas=%{y}<extra></extra>",
         "legendgroup": "Pintado",
         "line": {
          "color": "#19d3f3",
          "dash": "solid"
         },
         "marker": {
          "symbol": "circle"
         },
         "mode": "lines+markers",
         "name": "Pintado",
         "showlegend": true,
         "x": [
          2021,
          2022
         ],
         "xaxis": "x",
         "y": [
          60588,
          28657
         ],
         "yaxis": "y",
         "type": "scattergl"
        },
        {
         "hovertemplate": "Espécie=Pintado da AmazÃ´nia<br>Ano=%{x}<br>Quantidade de Cabeças Abatidas=%{y}<extra></extra>",
         "legendgroup": "Pintado da AmazÃ´nia",
         "line": {
          "color": "#FF6692",
          "dash": "solid"
         },
         "marker": {
          "symbol": "circle"
         },
         "mode": "lines+markers",
         "name": "Pintado da AmazÃ´nia",
         "showlegend": true,
         "x": [
          2021
         ],
         "xaxis": "x",
         "y": [
          8817
         ],
         "yaxis": "y",
         "type": "scattergl"
        },
        {
         "hovertemplate": "Espécie=Pirapitinga<br>Ano=%{x}<br>Quantidade de Cabeças Abatidas=%{y}<extra></extra>",
         "legendgroup": "Pirapitinga",
         "line": {
          "color": "#B6E880",
          "dash": "solid"
         },
         "marker": {
          "symbol": "circle"
         },
         "mode": "lines+markers",
         "name": "Pirapitinga",
         "showlegend": true,
         "x": [
          2021
         ],
         "xaxis": "x",
         "y": [
          12687
         ],
         "yaxis": "y",
         "type": "scattergl"
        },
        {
         "hovertemplate": "Espécie=Pirarucu<br>Ano=%{x}<br>Quantidade de Cabeças Abatidas=%{y}<extra></extra>",
         "legendgroup": "Pirarucu",
         "line": {
          "color": "#FF97FF",
          "dash": "solid"
         },
         "marker": {
          "symbol": "circle"
         },
         "mode": "lines+markers",
         "name": "Pirarucu",
         "showlegend": true,
         "x": [
          2021
         ],
         "xaxis": "x",
         "y": [
          511
         ],
         "yaxis": "y",
         "type": "scattergl"
        },
        {
         "hovertemplate": "Espécie=Ratitas<br>Ano=%{x}<br>Quantidade de Cabeças Abatidas=%{y}<extra></extra>",
         "legendgroup": "Ratitas",
         "line": {
          "color": "#FECB52",
          "dash": "solid"
         },
         "marker": {
          "symbol": "circle"
         },
         "mode": "lines+markers",
         "name": "Ratitas",
         "showlegend": true,
         "x": [
          2021,
          2022,
          2023,
          2024,
          2025
         ],
         "xaxis": "x",
         "y": [
          865,
          892,
          1184,
          660,
          400
         ],
         "yaxis": "y",
         "type": "scattergl"
        },
        {
         "hovertemplate": "Espécie=RÃ£-touro<br>Ano=%{x}<br>Quantidade de Cabeças Abatidas=%{y}<extra></extra>",
         "legendgroup": "RÃ£-touro",
         "line": {
          "color": "#636efa",
          "dash": "solid"
         },
         "marker": {
          "symbol": "circle"
         },
         "mode": "lines+markers",
         "name": "RÃ£-touro",
         "showlegend": true,
         "x": [
          2021,
          2022,
          2023
         ],
         "xaxis": "x",
         "y": [
          71950,
          74000,
          33600
         ],
         "yaxis": "y",
         "type": "scattergl"
        },
        {
         "hovertemplate": "Espécie=SuÃ­no<br>Ano=%{x}<br>Quantidade de Cabeças Abatidas=%{y}<extra></extra>",
         "legendgroup": "SuÃ­no",
         "line": {
          "color": "#EF553B",
          "dash": "solid"
         },
         "marker": {
          "symbol": "circle"
         },
         "mode": "lines+markers",
         "name": "SuÃ­no",
         "showlegend": true,
         "x": [
          2021,
          2022,
          2023,
          2024,
          2025
         ],
         "xaxis": "x",
         "y": [
          40981882,
          46209120,
          46877392,
          46692399,
          19036997
         ],
         "yaxis": "y",
         "type": "scattergl"
        },
        {
         "hovertemplate": "Espécie=Tambaqui<br>Ano=%{x}<br>Quantidade de Cabeças Abatidas=%{y}<extra></extra>",
         "legendgroup": "Tambaqui",
         "line": {
          "color": "#00cc96",
          "dash": "solid"
         },
         "marker": {
          "symbol": "circle"
         },
         "mode": "lines+markers",
         "name": "Tambaqui",
         "showlegend": true,
         "x": [
          2021
         ],
         "xaxis": "x",
         "y": [
          188619
         ],
         "yaxis": "y",
         "type": "scattergl"
        },
        {
         "hovertemplate": "Espécie=Tambatinga<br>Ano=%{x}<br>Quantidade de Cabeças Abatidas=%{y}<extra></extra>",
         "legendgroup": "Tambatinga",
         "line": {
          "color": "#ab63fa",
          "dash": "solid"
         },
         "marker": {
          "symbol": "circle"
         },
         "mode": "lines+markers",
         "name": "Tambatinga",
         "showlegend": true,
         "x": [
          2021,
          2022
         ],
         "xaxis": "x",
         "y": [
          119933,
          10000
         ],
         "yaxis": "y",
         "type": "scattergl"
        },
        {
         "hovertemplate": "Espécie=TilÃ¡pia do Nilo<br>Ano=%{x}<br>Quantidade de Cabeças Abatidas=%{y}<extra></extra>",
         "legendgroup": "TilÃ¡pia do Nilo",
         "line": {
          "color": "#FFA15A",
          "dash": "solid"
         },
         "marker": {
          "symbol": "circle"
         },
         "mode": "lines+markers",
         "name": "TilÃ¡pia do Nilo",
         "showlegend": true,
         "x": [
          2021,
          2022
         ],
         "xaxis": "x",
         "y": [
          41076628,
          22635521
         ],
         "yaxis": "y",
         "type": "scattergl"
        },
        {
         "hovertemplate": "Espécie=TilÃ¡pia, TilÃ¡pia-do-Nilo<br>Ano=%{x}<br>Quantidade de Cabeças Abatidas=%{y}<extra></extra>",
         "legendgroup": "TilÃ¡pia, TilÃ¡pia-do-Nilo",
         "line": {
          "color": "#19d3f3",
          "dash": "solid"
         },
         "marker": {
          "symbol": "circle"
         },
         "mode": "lines+markers",
         "name": "TilÃ¡pia, TilÃ¡pia-do-Nilo",
         "showlegend": true,
         "x": [
          2021,
          2022
         ],
         "xaxis": "x",
         "y": [
          5631684,
          2285219
         ],
         "yaxis": "y",
         "type": "scattergl"
        },
        {
         "hovertemplate": "Espécie=Truta, Truta-Arco-Ãris<br>Ano=%{x}<br>Quantidade de Cabeças Abatidas=%{y}<extra></extra>",
         "legendgroup": "Truta, Truta-Arco-Ãris",
         "line": {
          "color": "#FF6692",
          "dash": "solid"
         },
         "marker": {
          "symbol": "circle"
         },
         "mode": "lines+markers",
         "name": "Truta, Truta-Arco-Ãris",
         "showlegend": true,
         "x": [
          2021
         ],
         "xaxis": "x",
         "y": [
          7845
         ],
         "yaxis": "y",
         "type": "scattergl"
        },
        {
         "hovertemplate": "Espécie=Uma ou mais espÃ©cies<br>Ano=%{x}<br>Quantidade de Cabeças Abatidas=%{y}<extra></extra>",
         "legendgroup": "Uma ou mais espÃ©cies",
         "line": {
          "color": "#B6E880",
          "dash": "solid"
         },
         "marker": {
          "symbol": "circle"
         },
         "mode": "lines+markers",
         "name": "Uma ou mais espÃ©cies",
         "showlegend": true,
         "x": [
          2021
         ],
         "xaxis": "x",
         "y": [
          11700
         ],
         "yaxis": "y",
         "type": "scattergl"
        },
        {
         "hovertemplate": "Espécie=Aves nÃ£o destinadas Ã  produÃ§Ã£o de carne ou ovos (ornamentais/silvestres)<br>Ano=%{x}<br>Quantidade de Cabeças Abatidas=%{y}<extra></extra>",
         "legendgroup": "Aves nÃ£o destinadas Ã  produÃ§Ã£o de carne ou ovos (ornamentais/silvestres)",
         "line": {
          "color": "#FF97FF",
          "dash": "solid"
         },
         "marker": {
          "symbol": "circle"
         },
         "mode": "lines+markers",
         "name": "Aves nÃ£o destinadas Ã  produÃ§Ã£o de carne ou ovos (ornamentais/silvestres)",
         "showlegend": true,
         "x": [
          2022
         ],
         "xaxis": "x",
         "y": [
          132289
         ],
         "yaxis": "y",
         "type": "scattergl"
        },
        {
         "hovertemplate": "Espécie=CamarÃ£o<br>Ano=%{x}<br>Quantidade de Cabeças Abatidas=%{y}<extra></extra>",
         "legendgroup": "CamarÃ£o",
         "line": {
          "color": "#FECB52",
          "dash": "solid"
         },
         "marker": {
          "symbol": "circle"
         },
         "mode": "lines+markers",
         "name": "CamarÃ£o",
         "showlegend": true,
         "x": [
          2022
         ],
         "xaxis": "x",
         "y": [
          128622
         ],
         "yaxis": "y",
         "type": "scattergl"
        },
        {
         "hovertemplate": "Espécie=JacarÃ©<br>Ano=%{x}<br>Quantidade de Cabeças Abatidas=%{y}<extra></extra>",
         "legendgroup": "JacarÃ©",
         "line": {
          "color": "#636efa",
          "dash": "solid"
         },
         "marker": {
          "symbol": "circle"
         },
         "mode": "lines+markers",
         "name": "JacarÃ©",
         "showlegend": true,
         "x": [
          2022,
          2023,
          2024,
          2025
         ],
         "xaxis": "x",
         "y": [
          9950,
          88464,
          55920,
          12879
         ],
         "yaxis": "y",
         "type": "scattergl"
        },
        {
         "hovertemplate": "Espécie=Ostra<br>Ano=%{x}<br>Quantidade de Cabeças Abatidas=%{y}<extra></extra>",
         "legendgroup": "Ostra",
         "line": {
          "color": "#EF553B",
          "dash": "solid"
         },
         "marker": {
          "symbol": "circle"
         },
         "mode": "lines+markers",
         "name": "Ostra",
         "showlegend": true,
         "x": [
          2025
         ],
         "xaxis": "x",
         "y": [
          4032
         ],
         "yaxis": "y",
         "type": "scattergl"
        }
       ],
       "layout": {
        "template": {
         "data": {
          "histogram2dcontour": [
           {
            "type": "histogram2dcontour",
            "colorbar": {
             "outlinewidth": 0,
             "ticks": ""
            },
            "colorscale": [
             [
              0.0,
              "#0d0887"
             ],
             [
              0.1111111111111111,
              "#46039f"
             ],
             [
              0.2222222222222222,
              "#7201a8"
             ],
             [
              0.3333333333333333,
              "#9c179e"
             ],
             [
              0.4444444444444444,
              "#bd3786"
             ],
             [
              0.5555555555555556,
              "#d8576b"
             ],
             [
              0.6666666666666666,
              "#ed7953"
             ],
             [
              0.7777777777777778,
              "#fb9f3a"
             ],
             [
              0.8888888888888888,
              "#fdca26"
             ],
             [
              1.0,
              "#f0f921"
             ]
            ]
           }
          ],
          "choropleth": [
           {
            "type": "choropleth",
            "colorbar": {
             "outlinewidth": 0,
             "ticks": ""
            }
           }
          ],
          "histogram2d": [
           {
            "type": "histogram2d",
            "colorbar": {
             "outlinewidth": 0,
             "ticks": ""
            },
            "colorscale": [
             [
              0.0,
              "#0d0887"
             ],
             [
              0.1111111111111111,
              "#46039f"
             ],
             [
              0.2222222222222222,
              "#7201a8"
             ],
             [
              0.3333333333333333,
              "#9c179e"
             ],
             [
              0.4444444444444444,
              "#bd3786"
             ],
             [
              0.5555555555555556,
              "#d8576b"
             ],
             [
              0.6666666666666666,
              "#ed7953"
             ],
             [
              0.7777777777777778,
              "#fb9f3a"
             ],
             [
              0.8888888888888888,
              "#fdca26"
             ],
             [
              1.0,
              "#f0f921"
             ]
            ]
           }
          ],
          "heatmap": [
           {
            "type": "heatmap",
            "colorbar": {
             "outlinewidth": 0,
             "ticks": ""
            },
            "colorscale": [
             [
              0.0,
              "#0d0887"
             ],
             [
              0.1111111111111111,
              "#46039f"
             ],
             [
              0.2222222222222222,
              "#7201a8"
             ],
             [
              0.3333333333333333,
              "#9c179e"
             ],
             [
              0.4444444444444444,
              "#bd3786"
             ],
             [
              0.5555555555555556,
              "#d8576b"
             ],
             [
              0.6666666666666666,
              "#ed7953"
             ],
             [
              0.7777777777777778,
              "#fb9f3a"
             ],
             [
              0.8888888888888888,
              "#fdca26"
             ],
             [
              1.0,
              "#f0f921"
             ]
            ]
           }
          ],
          "heatmapgl": [
           {
            "type": "heatmapgl",
            "colorbar": {
             "outlinewidth": 0,
             "ticks": ""
            },
            "colorscale": [
             [
              0.0,
              "#0d0887"
             ],
             [
              0.1111111111111111,
              "#46039f"
             ],
             [
              0.2222222222222222,
              "#7201a8"
             ],
             [
              0.3333333333333333,
              "#9c179e"
             ],
             [
              0.4444444444444444,
              "#bd3786"
             ],
             [
              0.5555555555555556,
              "#d8576b"
             ],
             [
              0.6666666666666666,
              "#ed7953"
             ],
             [
              0.7777777777777778,
              "#fb9f3a"
             ],
             [
              0.8888888888888888,
              "#fdca26"
             ],
             [
              1.0,
              "#f0f921"
             ]
            ]
           }
          ],
          "contourcarpet": [
           {
            "type": "contourcarpet",
            "colorbar": {
             "outlinewidth": 0,
             "ticks": ""
            }
           }
          ],
          "contour": [
           {
            "type": "contour",
            "colorbar": {
             "outlinewidth": 0,
             "ticks": ""
            },
            "colorscale": [
             [
              0.0,
              "#0d0887"
             ],
             [
              0.1111111111111111,
              "#46039f"
             ],
             [
              0.2222222222222222,
              "#7201a8"
             ],
             [
              0.3333333333333333,
              "#9c179e"
             ],
             [
              0.4444444444444444,
              "#bd3786"
             ],
             [
              0.5555555555555556,
              "#d8576b"
             ],
             [
              0.6666666666666666,
              "#ed7953"
             ],
             [
              0.7777777777777778,
              "#fb9f3a"
             ],
             [
              0.8888888888888888,
              "#fdca26"
             ],
             [
              1.0,
              "#f0f921"
             ]
            ]
           }
          ],
          "surface": [
           {
            "type": "surface",
            "colorbar": {
             "outlinewidth": 0,
             "ticks": ""
            },
            "colorscale": [
             [
              0.0,
              "#0d0887"
             ],
             [
              0.1111111111111111,
              "#46039f"
             ],
             [
              0.2222222222222222,
              "#7201a8"
             ],
             [
              0.3333333333333333,
              "#9c179e"
             ],
             [
              0.4444444444444444,
              "#bd3786"
             ],
             [
              0.5555555555555556,
              "#d8576b"
             ],
             [
              0.6666666666666666,
              "#ed7953"
             ],
             [
              0.7777777777777778,
              "#fb9f3a"
             ],
             [
              0.8888888888888888,
              "#fdca26"
             ],
             [
              1.0,
              "#f0f921"
             ]
            ]
           }
          ],
          "mesh3d": [
           {
            "type": "mesh3d",
            "colorbar": {
             "outlinewidth": 0,
             "ticks": ""
            }
           }
          ],
          "scatter": [
           {
            "fillpattern": {
             "fillmode": "overlay",
             "size": 10,
             "solidity": 0.2
            },
            "type": "scatter"
           }
          ],
          "parcoords": [
           {
            "type": "parcoords",
            "line": {
             "colorbar": {
              "outlinewidth": 0,
              "ticks": ""
             }
            }
           }
          ],
          "scatterpolargl": [
           {
            "type": "scatterpolargl",
            "marker": {
             "colorbar": {
              "outlinewidth": 0,
              "ticks": ""
             }
            }
           }
          ],
          "bar": [
           {
            "error_x": {
             "color": "#2a3f5f"
            },
            "error_y": {
             "color": "#2a3f5f"
            },
            "marker": {
             "line": {
              "color": "#E5ECF6",
              "width": 0.5
             },
             "pattern": {
              "fillmode": "overlay",
              "size": 10,
              "solidity": 0.2
             }
            },
            "type": "bar"
           }
          ],
          "scattergeo": [
           {
            "type": "scattergeo",
            "marker": {
             "colorbar": {
              "outlinewidth": 0,
              "ticks": ""
             }
            }
           }
          ],
          "scatterpolar": [
           {
            "type": "scatterpolar",
            "marker": {
             "colorbar": {
              "outlinewidth": 0,
              "ticks": ""
             }
            }
           }
          ],
          "histogram": [
           {
            "marker": {
             "pattern": {
              "fillmode": "overlay",
              "size": 10,
              "solidity": 0.2
             }
            },
            "type": "histogram"
           }
          ],
          "scattergl": [
           {
            "type": "scattergl",
            "marker": {
             "colorbar": {
              "outlinewidth": 0,
              "ticks": ""
             }
            }
           }
          ],
          "scatter3d": [
           {
            "type": "scatter3d",
            "line": {
             "colorbar": {
              "outlinewidth": 0,
              "ticks": ""
             }
            },
            "marker": {
             "colorbar": {
              "outlinewidth": 0,
              "ticks": ""
             }
            }
           }
          ],
          "scattermapbox": [
           {
            "type": "scattermapbox",
            "marker": {
             "colorbar": {
              "outlinewidth": 0,
              "ticks": ""
             }
            }
           }
          ],
          "scatterternary": [
           {
            "type": "scatterternary",
            "marker": {
             "colorbar": {
              "outlinewidth": 0,
              "ticks": ""
             }
            }
           }
          ],
          "scattercarpet": [
           {
            "type": "scattercarpet",
            "marker": {
             "colorbar": {
              "outlinewidth": 0,
              "ticks": ""
             }
            }
           }
          ],
          "carpet": [
           {
            "aaxis": {
             "endlinecolor": "#2a3f5f",
             "gridcolor": "white",
             "linecolor": "white",
             "minorgridcolor": "white",
             "startlinecolor": "#2a3f5f"
            },
            "baxis": {
             "endlinecolor": "#2a3f5f",
             "gridcolor": "white",
             "linecolor": "white",
             "minorgridcolor": "white",
             "startlinecolor": "#2a3f5f"
            },
            "type": "carpet"
           }
          ],
          "table": [
           {
            "cells": {
             "fill": {
              "color": "#EBF0F8"
             },
             "line": {
              "color": "white"
             }
            },
            "header": {
             "fill": {
              "color": "#C8D4E3"
             },
             "line": {
              "color": "white"
             }
            },
            "type": "table"
           }
          ],
          "barpolar": [
           {
            "marker": {
             "line": {
              "color": "#E5ECF6",
              "width": 0.5
             },
             "pattern": {
              "fillmode": "overlay",
              "size": 10,
              "solidity": 0.2
             }
            },
            "type": "barpolar"
           }
          ],
          "pie": [
           {
            "automargin": true,
            "type": "pie"
           }
          ]
         },
         "layout": {
          "autotypenumbers": "strict",
          "colorway": [
           "#636efa",
           "#EF553B",
           "#00cc96",
           "#ab63fa",
           "#FFA15A",
           "#19d3f3",
           "#FF6692",
           "#B6E880",
           "#FF97FF",
           "#FECB52"
          ],
          "font": {
           "color": "#2a3f5f"
          },
          "hovermode": "closest",
          "hoverlabel": {
           "align": "left"
          },
          "paper_bgcolor": "white",
          "plot_bgcolor": "#E5ECF6",
          "polar": {
           "bgcolor": "#E5ECF6",
           "angularaxis": {
            "gridcolor": "white",
            "linecolor": "white",
            "ticks": ""
           },
           "radialaxis": {
            "gridcolor": "white",
            "linecolor": "white",
            "ticks": ""
           }
          },
          "ternary": {
           "bgcolor": "#E5ECF6",
           "aaxis": {
            "gridcolor": "white",
            "linecolor": "white",
            "ticks": ""
           },
           "baxis": {
            "gridcolor": "white",
            "linecolor": "white",
            "ticks": ""
           },
           "caxis": {
            "gridcolor": "white",
            "linecolor": "white",
            "ticks": ""
           }
          },
          "coloraxis": {
           "colorbar": {
            "outlinewidth": 0,
            "ticks": ""
           }
          },
          "colorscale": {
           "sequential": [
            [
             0.0,
             "#0d0887"
            ],
            [
             0.1111111111111111,
             "#46039f"
            ],
            [
             0.2222222222222222,
             "#7201a8"
            ],
            [
             0.3333333333333333,
             "#9c179e"
            ],
            [
             0.4444444444444444,
             "#bd3786"
            ],
            [
             0.5555555555555556,
             "#d8576b"
            ],
            [
             0.6666666666666666,
             "#ed7953"
            ],
            [
             0.7777777777777778,
             "#fb9f3a"
            ],
            [
             0.8888888888888888,
             "#fdca26"
            ],
            [
             1.0,
             "#f0f921"
            ]
           ],
           "sequentialminus": [
            [
             0.0,
             "#0d0887"
            ],
            [
             0.1111111111111111,
             "#46039f"
            ],
            [
             0.2222222222222222,
             "#7201a8"
            ],
            [
             0.3333333333333333,
             "#9c179e"
            ],
            [
             0.4444444444444444,
             "#bd3786"
            ],
            [
             0.5555555555555556,
             "#d8576b"
            ],
            [
             0.6666666666666666,
             "#ed7953"
            ],
            [
             0.7777777777777778,
             "#fb9f3a"
            ],
            [
             0.8888888888888888,
             "#fdca26"
            ],
            [
             1.0,
             "#f0f921"
            ]
           ],
           "diverging": [
            [
             0,
             "#8e0152"
            ],
            [
             0.1,
             "#c51b7d"
            ],
            [
             0.2,
             "#de77ae"
            ],
            [
             0.3,
             "#f1b6da"
            ],
            [
             0.4,
             "#fde0ef"
            ],
            [
             0.5,
             "#f7f7f7"
            ],
            [
             0.6,
             "#e6f5d0"
            ],
            [
             0.7,
             "#b8e186"
            ],
            [
             0.8,
             "#7fbc41"
            ],
            [
             0.9,
             "#4d9221"
            ],
            [
             1,
             "#276419"
            ]
           ]
          },
          "xaxis": {
           "gridcolor": "white",
           "linecolor": "white",
           "ticks": "",
           "title": {
            "standoff": 15
           },
           "zerolinecolor": "white",
           "automargin": true,
           "zerolinewidth": 2
          },
          "yaxis": {
           "gridcolor": "white",
           "linecolor": "white",
           "ticks": "",
           "title": {
            "standoff": 15
           },
           "zerolinecolor": "white",
           "automargin": true,
           "zerolinewidth": 2
          },
          "scene": {
           "xaxis": {
            "backgroundcolor": "#E5ECF6",
            "gridcolor": "white",
            "linecolor": "white",
            "showbackground": true,
            "ticks": "",
            "zerolinecolor": "white",
            "gridwidth": 2
           },
           "yaxis": {
            "backgroundcolor": "#E5ECF6",
            "gridcolor": "white",
            "linecolor": "white",
            "showbackground": true,
            "ticks": "",
            "zerolinecolor": "white",
            "gridwidth": 2
           },
           "zaxis": {
            "backgroundcolor": "#E5ECF6",
            "gridcolor": "white",
            "linecolor": "white",
            "showbackground": true,
            "ticks": "",
            "zerolinecolor": "white",
            "gridwidth": 2
           }
          },
          "shapedefaults": {
           "line": {
            "color": "#2a3f5f"
           }
          },
          "annotationdefaults": {
           "arrowcolor": "#2a3f5f",
           "arrowhead": 0,
           "arrowwidth": 1
          },
          "geo": {
           "bgcolor": "white",
           "landcolor": "#E5ECF6",
           "subunitcolor": "white",
           "showland": true,
           "showlakes": true,
           "lakecolor": "white"
          },
          "title": {
           "x": 0.05
          },
          "mapbox": {
           "style": "light"
          }
         }
        },
        "xaxis": {
         "anchor": "y",
         "domain": [
          0.0,
          1.0
         ],
         "title": {
          "text": "Ano"
         }
        },
        "yaxis": {
         "anchor": "x",
         "domain": [
          0.0,
          1.0
         ],
         "title": {
          "text": "Quantidade de Cabeças Abatidas"
         }
        },
        "legend": {
         "title": {
          "text": "Espécie"
         },
         "tracegroupgap": 0
        },
        "title": {
         "text": "Evolução Anual do Abate de Animais no Brasil (SIF)"
        }
       },
       "config": {
        "plotlyServerURL": "https://plot.ly"
       }
      },
      "text/html": [
       "<div>                            <div id=\"bb8eee2c-e081-4816-b5b7-de59ecde342c\" class=\"plotly-graph-div\" style=\"height:525px; width:100%;\"></div>            <script type=\"text/javascript\">                require([\"plotly\"], function(Plotly) {                    window.PLOTLYENV=window.PLOTLYENV || {};                                    if (document.getElementById(\"bb8eee2c-e081-4816-b5b7-de59ecde342c\")) {                    Plotly.newPlot(                        \"bb8eee2c-e081-4816-b5b7-de59ecde342c\",                        [{\"hovertemplate\":\"Espécie=Bovino\\u003cbr\\u003eAno=%{x}\\u003cbr\\u003eQuantidade de Cabeças Abatidas=%{y}\\u003cextra\\u003e\\u003c\\u002fextra\\u003e\",\"legendgroup\":\"Bovino\",\"line\":{\"color\":\"#636efa\",\"dash\":\"solid\"},\"marker\":{\"symbol\":\"circle\"},\"mode\":\"lines+markers\",\"name\":\"Bovino\",\"showlegend\":true,\"x\":[1995,2000,2001,2002,2003,2004,2005,2006,2007,2008,2009,2010,2011,2012,2013,2014,2015,2016,2017,2018,2019,2020,2021,2022,2023,2024,2025],\"xaxis\":\"x\",\"y\":[245,37900,41978,2463304,11495476,16265490,18014121,19793778,20238692,18178755,17702992,17849325,17459921,18461663,20121814,20060480,18211622,17458892,17976239,19391332,20055035,18495441,20330211,22368161,25151607,28514025,11683438],\"yaxis\":\"y\",\"type\":\"scattergl\"},{\"hovertemplate\":\"Espécie=Suino\\u003cbr\\u003eAno=%{x}\\u003cbr\\u003eQuantidade de Cabeças Abatidas=%{y}\\u003cextra\\u003e\\u003c\\u002fextra\\u003e\",\"legendgroup\":\"Suino\",\"line\":{\"color\":\"#EF553B\",\"dash\":\"solid\"},\"marker\":{\"symbol\":\"circle\"},\"mode\":\"lines+markers\",\"name\":\"Suino\",\"showlegend\":true,\"x\":[2000,2001,2002,2003,2004,2005,2006,2007,2008,2009,2010,2011,2012,2013,2014,2015,2016,2017,2018,2019,2020,2021],\"xaxis\":\"x\",\"y\":[14085,22431,6683189,9245018,8974133,9847905,11753609,13140164,14238012,13509105,14692085,16359915,18402724,18522993,19571992,20753838,21361700,22229700,22991245,22240371,23759784,1816088],\"yaxis\":\"y\",\"type\":\"scattergl\"},{\"hovertemplate\":\"Espécie=Frango\\u003cbr\\u003eAno=%{x}\\u003cbr\\u003eQuantidade de Cabeças Abatidas=%{y}\\u003cextra\\u003e\\u003c\\u002fextra\\u003e\",\"legendgroup\":\"Frango\",\"line\":{\"color\":\"#00cc96\",\"dash\":\"solid\"},\"marker\":{\"symbol\":\"circle\"},\"mode\":\"lines+markers\",\"name\":\"Frango\",\"showlegend\":true,\"x\":[2001,2002,2003,2004,2005,2006,2007,2008,2009,2010,2011,2012,2013,2014,2015,2016,2017,2018,2019,2020,2021,2022,2023,2024,2025],\"xaxis\":\"x\",\"y\":[13405752,1020943997,2699024068,2996558685,3452881768,3689735626,4034667752,4444554633,4393121254,4691210807,5039057665,4985610811,5021547822,5088857754,5334324343,5407289261,5235056009,5038309150,5171601336,5422143713,3235843089,4012222320,5296094242,5449066884,2249549702],\"yaxis\":\"y\",\"type\":\"scattergl\"},{\"hovertemplate\":\"Espécie=Leitoa\\u003cbr\\u003eAno=%{x}\\u003cbr\\u003eQuantidade de Cabeças Abatidas=%{y}\\u003cextra\\u003e\\u003c\\u002fextra\\u003e\",\"legendgroup\":\"Leitoa\",\"line\":{\"color\":\"#ab63fa\",\"dash\":\"solid\"},\"marker\":{\"symbol\":\"circle\"},\"mode\":\"lines+markers\",\"name\":\"Leitoa\",\"showlegend\":true,\"x\":[2001,2002,2003,2004,2005,2006,2007,2008,2009,2010,2011,2012,2013,2014,2015,2016,2017,2018,2019,2020,2021],\"xaxis\":\"x\",\"y\":[7,327,2368,12609,16140,35038,27764,30355,30683,30342,41429,24896,19705,16365,12382,12824,42450,67169,59999,19104,11501],\"yaxis\":\"y\",\"type\":\"scattergl\"},{\"hovertemplate\":\"Espécie=Porca Matrizeira\\u003cbr\\u003eAno=%{x}\\u003cbr\\u003eQuantidade de Cabeças Abatidas=%{y}\\u003cextra\\u003e\\u003c\\u002fextra\\u003e\",\"legendgroup\":\"Porca Matrizeira\",\"line\":{\"color\":\"#FFA15A\",\"dash\":\"solid\"},\"marker\":{\"symbol\":\"circle\"},\"mode\":\"lines+markers\",\"name\":\"Porca Matrizeira\",\"showlegend\":true,\"x\":[2001,2002,2003,2004,2005,2006,2007,2008,2009,2010,2011,2012,2013,2014,2015,2016,2017,2018,2019,2020,2021],\"xaxis\":\"x\",\"y\":[2888,17709,146741,155771,195862,244854,231368,273265,298062,278000,311295,301296,278103,242245,283475,352548,373551,429516,400138,464261,38968],\"yaxis\":\"y\",\"type\":\"scattergl\"},{\"hovertemplate\":\"Espécie=Porco Nao Classificado\\u003cbr\\u003eAno=%{x}\\u003cbr\\u003eQuantidade de Cabeças Abatidas=%{y}\\u003cextra\\u003e\\u003c\\u002fextra\\u003e\",\"legendgroup\":\"Porco Nao Classificado\",\"line\":{\"color\":\"#19d3f3\",\"dash\":\"solid\"},\"marker\":{\"symbol\":\"circle\"},\"mode\":\"lines+markers\",\"name\":\"Porco Nao Classificado\",\"showlegend\":true,\"x\":[2001,2002,2003,2004,2005,2006,2007,2008,2009,2010,2011,2012,2013,2014,2015,2016,2017,2018,2019,2020,2021],\"xaxis\":\"x\",\"y\":[25,792,9900,17220,8079,294019,488768,433811,534609,572186,603553,765609,1470104,1450940,1509809,2579035,2787147,2859273,3123740,3562463,314701],\"yaxis\":\"y\",\"type\":\"scattergl\"},{\"hovertemplate\":\"Espécie=Suino Tipo Carne,\\u003cbr\\u003eAno=%{x}\\u003cbr\\u003eQuantidade de Cabeças Abatidas=%{y}\\u003cextra\\u003e\\u003c\\u002fextra\\u003e\",\"legendgroup\":\"Suino Tipo Carne,\",\"line\":{\"color\":\"#FF6692\",\"dash\":\"solid\"},\"marker\":{\"symbol\":\"circle\"},\"mode\":\"lines+markers\",\"name\":\"Suino Tipo Carne,\",\"showlegend\":true,\"x\":[2001,2002,2003,2004,2005,2006,2007,2008,2009,2010,2011,2012,2013,2014,2015,2016,2017,2018,2019,2020,2021],\"xaxis\":\"x\",\"y\":[60359,1205169,8918617,9940935,10892780,10677848,10393942,10981331,13610349,13486581,13562698,12837150,11603327,11539266,11802689,12297199,11227508,11784626,13117112,13498064,1067465],\"yaxis\":\"y\",\"type\":\"scattergl\"},{\"hovertemplate\":\"Espécie=Asinino\\u003cbr\\u003eAno=%{x}\\u003cbr\\u003eQuantidade de Cabeças Abatidas=%{y}\\u003cextra\\u003e\\u003c\\u002fextra\\u003e\",\"legendgroup\":\"Asinino\",\"line\":{\"color\":\"#B6E880\",\"dash\":\"solid\"},\"marker\":{\"symbol\":\"circle\"},\"mode\":\"lines+markers\",\"name\":\"Asinino\",\"showlegend\":true,\"x\":[2002,2003,2004,2005,2006,2007,2008,2009,2010,2011,2012,2013,2014,2015,2016,2017,2018,2019,2020,2021,2022,2023,2024,2025],\"xaxis\":\"x\",\"y\":[7806,309,6611,11831,5603,1994,4522,3780,866,30,80,35,36,1575,1281,26125,62622,25,27686,69176,39727,28749,24706,9940],\"yaxis\":\"y\",\"type\":\"scattergl\"},{\"hovertemplate\":\"Espécie=Bubalino Jovem\\u003cbr\\u003eAno=%{x}\\u003cbr\\u003eQuantidade de Cabeças Abatidas=%{y}\\u003cextra\\u003e\\u003c\\u002fextra\\u003e\",\"legendgroup\":\"Bubalino Jovem\",\"line\":{\"color\":\"#FF97FF\",\"dash\":\"solid\"},\"marker\":{\"symbol\":\"circle\"},\"mode\":\"lines+markers\",\"name\":\"Bubalino Jovem\",\"showlegend\":true,\"x\":[2002,2003,2004,2005,2006,2007,2008,2009,2010,2011,2012,2013,2014,2015,2016,2017,2018,2019,2020,2021],\"xaxis\":\"x\",\"y\":[255,137,242,143,225,375,122,275,132,71,359,77,396,1619,1616,2516,3811,771,875,144],\"yaxis\":\"y\",\"type\":\"scattergl\"},{\"hovertemplate\":\"Espécie=Bufala\\u003cbr\\u003eAno=%{x}\\u003cbr\\u003eQuantidade de Cabeças Abatidas=%{y}\\u003cextra\\u003e\\u003c\\u002fextra\\u003e\",\"legendgroup\":\"Bufala\",\"line\":{\"color\":\"#FECB52\",\"dash\":\"solid\"},\"marker\":{\"symbol\":\"circle\"},\"mode\":\"lines+markers\",\"name\":\"Bufala\",\"showlegend\":true,\"x\":[2002,2003,2004,2005,2006,2007,2008,2009,2010,2011,2012,2013,2014,2015,2016,2017,2018,2019,2020,2021],\"xaxis\":\"x\",\"y\":[1375,4490,5540,6885,12139,8637,5296,4172,4508,3343,4948,3687,6795,5974,4348,4483,5034,4955,5183,400],\"yaxis\":\"y\",\"type\":\"scattergl\"},{\"hovertemplate\":\"Espécie=Bufalo\\u003cbr\\u003eAno=%{x}\\u003cbr\\u003eQuantidade de Cabeças Abatidas=%{y}\\u003cextra\\u003e\\u003c\\u002fextra\\u003e\",\"legendgroup\":\"Bufalo\",\"line\":{\"color\":\"#636efa\",\"dash\":\"solid\"},\"marker\":{\"symbol\":\"circle\"},\"mode\":\"lines+markers\",\"name\":\"Bufalo\",\"showlegend\":true,\"x\":[2002,2003,2004,2005,2006,2007,2008,2009,2010,2011,2012,2013,2014,2015,2016,2017,2018,2019,2020,2021],\"xaxis\":\"x\",\"y\":[2811,7678,11103,10555,13191,13755,9811,6955,6973,5760,7112,7285,9933,7541,7572,7911,9935,8885,5316,368],\"yaxis\":\"y\",\"type\":\"scattergl\"},{\"hovertemplate\":\"Espécie=Capao\\u003cbr\\u003eAno=%{x}\\u003cbr\\u003eQuantidade de Cabeças Abatidas=%{y}\\u003cextra\\u003e\\u003c\\u002fextra\\u003e\",\"legendgroup\":\"Capao\",\"line\":{\"color\":\"#EF553B\",\"dash\":\"solid\"},\"marker\":{\"symbol\":\"circle\"},\"mode\":\"lines+markers\",\"name\":\"Capao\",\"showlegend\":true,\"x\":[2002,2003,2004,2005,2006,2007,2008,2009,2010,2011,2012,2013,2014,2019],\"xaxis\":\"x\",\"y\":[3497,8747,15428,7155,14273,15979,10797,11635,41549,24817,6316,1714,1113,127],\"yaxis\":\"y\",\"type\":\"scattergl\"},{\"hovertemplate\":\"Espécie=Caprino\\u003cbr\\u003eAno=%{x}\\u003cbr\\u003eQuantidade de Cabeças Abatidas=%{y}\\u003cextra\\u003e\\u003c\\u002fextra\\u003e\",\"legendgroup\":\"Caprino\",\"line\":{\"color\":\"#00cc96\",\"dash\":\"solid\"},\"marker\":{\"symbol\":\"circle\"},\"mode\":\"lines+markers\",\"name\":\"Caprino\",\"showlegend\":true,\"x\":[2002,2003,2004,2005,2006,2007,2008,2009,2010,2011,2012,2013,2014,2015,2016,2017,2018,2019,2020,2021,2022,2024],\"xaxis\":\"x\",\"y\":[430,2580,5902,6896,6855,4102,3587,4658,4409,7611,8424,7730,883,267,105,311,41,224,286,174,120,6134],\"yaxis\":\"y\",\"type\":\"scattergl\"},{\"hovertemplate\":\"Espécie=Codorna\\u003cbr\\u003eAno=%{x}\\u003cbr\\u003eQuantidade de Cabeças Abatidas=%{y}\\u003cextra\\u003e\\u003c\\u002fextra\\u003e\",\"legendgroup\":\"Codorna\",\"line\":{\"color\":\"#ab63fa\",\"dash\":\"solid\"},\"marker\":{\"symbol\":\"circle\"},\"mode\":\"lines+markers\",\"name\":\"Codorna\",\"showlegend\":true,\"x\":[2002,2003,2004,2005,2006,2007,2008,2009,2010,2011,2012,2013,2014,2015,2016,2023,2024,2025],\"xaxis\":\"x\",\"y\":[434773,4456518,5678873,5988336,6056082,5844416,6498616,5823886,4788433,6053950,6149560,5560683,5932148,4168125,4361568,1200863,1998533,1013865],\"yaxis\":\"y\",\"type\":\"scattergl\"},{\"hovertemplate\":\"Espécie=Coelho\\u003cbr\\u003eAno=%{x}\\u003cbr\\u003eQuantidade de Cabeças Abatidas=%{y}\\u003cextra\\u003e\\u003c\\u002fextra\\u003e\",\"legendgroup\":\"Coelho\",\"line\":{\"color\":\"#FFA15A\",\"dash\":\"solid\"},\"marker\":{\"symbol\":\"circle\"},\"mode\":\"lines+markers\",\"name\":\"Coelho\",\"showlegend\":true,\"x\":[2002,2003,2004,2005,2006,2007,2008,2009,2010,2011,2012,2013,2014,2015,2016,2017,2018,2019,2020,2021,2022,2023,2024,2025],\"xaxis\":\"x\",\"y\":[1080,43998,74226,53390,57189,71752,67669,62141,56053,63292,40718,13892,8939,12265,29046,44595,21451,17556,17968,19618,24916,103242,27613,7857],\"yaxis\":\"y\",\"type\":\"scattergl\"},{\"hovertemplate\":\"Espécie=Cordeira\\u003cbr\\u003eAno=%{x}\\u003cbr\\u003eQuantidade de Cabeças Abatidas=%{y}\\u003cextra\\u003e\\u003c\\u002fextra\\u003e\",\"legendgroup\":\"Cordeira\",\"line\":{\"color\":\"#19d3f3\",\"dash\":\"solid\"},\"marker\":{\"symbol\":\"circle\"},\"mode\":\"lines+markers\",\"name\":\"Cordeira\",\"showlegend\":true,\"x\":[2002,2003,2004,2005,2006,2007,2008,2009,2010,2011,2012,2013,2014,2015,2016,2017,2018,2019,2020,2021],\"xaxis\":\"x\",\"y\":[361,905,374,977,4129,2690,4497,1951,2528,4358,1979,1951,3584,1120,1075,4174,875,1143,1029,115],\"yaxis\":\"y\",\"type\":\"scattergl\"},{\"hovertemplate\":\"Espécie=Cordeiro\\u003cbr\\u003eAno=%{x}\\u003cbr\\u003eQuantidade de Cabeças Abatidas=%{y}\\u003cextra\\u003e\\u003c\\u002fextra\\u003e\",\"legendgroup\":\"Cordeiro\",\"line\":{\"color\":\"#FF6692\",\"dash\":\"solid\"},\"marker\":{\"symbol\":\"circle\"},\"mode\":\"lines+markers\",\"name\":\"Cordeiro\",\"showlegend\":true,\"x\":[2002,2003,2004,2005,2006,2007,2008,2009,2010,2011,2012,2013,2014,2015,2016,2017,2018,2019,2020,2021],\"xaxis\":\"x\",\"y\":[28841,22043,32710,21443,71636,86540,69230,129737,81780,49423,42794,16261,17119,6197,4144,5405,4349,5715,5603,1061],\"yaxis\":\"y\",\"type\":\"scattergl\"},{\"hovertemplate\":\"Espécie=Ema\\u003cbr\\u003eAno=%{x}\\u003cbr\\u003eQuantidade de Cabeças Abatidas=%{y}\\u003cextra\\u003e\\u003c\\u002fextra\\u003e\",\"legendgroup\":\"Ema\",\"line\":{\"color\":\"#B6E880\",\"dash\":\"solid\"},\"marker\":{\"symbol\":\"circle\"},\"mode\":\"lines+markers\",\"name\":\"Ema\",\"showlegend\":true,\"x\":[2002,2003,2004,2005,2010,2020],\"xaxis\":\"x\",\"y\":[355,63,280,10,28302,20587],\"yaxis\":\"y\",\"type\":\"scattergl\"},{\"hovertemplate\":\"Espécie=Equino\\u003cbr\\u003eAno=%{x}\\u003cbr\\u003eQuantidade de Cabeças Abatidas=%{y}\\u003cextra\\u003e\\u003c\\u002fextra\\u003e\",\"legendgroup\":\"Equino\",\"line\":{\"color\":\"#FF97FF\",\"dash\":\"solid\"},\"marker\":{\"symbol\":\"circle\"},\"mode\":\"lines+markers\",\"name\":\"Equino\",\"showlegend\":true,\"x\":[2002,2003,2004,2005,2006,2007,2008,2009,2010,2011,2012,2013,2014,2015,2016,2017,2018,2019,2020,2021,2022,2023,2024,2025],\"xaxis\":\"x\",\"y\":[48463,144053,194072,192273,144297,117658,87396,71735,27727,17947,19938,13872,17174,21520,22660,12990,17149,32297,33877,50270,41230,33500,27649,10046],\"yaxis\":\"y\",\"type\":\"scattergl\"},{\"hovertemplate\":\"Espécie=FaizÃ£o\\u003cbr\\u003eAno=%{x}\\u003cbr\\u003eQuantidade de Cabeças Abatidas=%{y}\\u003cextra\\u003e\\u003c\\u002fextra\\u003e\",\"legendgroup\":\"FaizÃ£o\",\"line\":{\"color\":\"#FECB52\",\"dash\":\"solid\"},\"marker\":{\"symbol\":\"circle\"},\"mode\":\"lines+markers\",\"name\":\"FaizÃ£o\",\"showlegend\":true,\"x\":[2002,2003,2004,2005,2006,2007,2008,2009,2010,2011,2012,2013,2014,2015,2016,2017,2018,2019,2020,2021],\"xaxis\":\"x\",\"y\":[436525,216633,2141929,6454361,2759324,1206448,1785509,954550,2385717,2518878,305421,61964,1762310,260350,5193,86194,183747,9732,551507,34705],\"yaxis\":\"y\",\"type\":\"scattergl\"},{\"hovertemplate\":\"Espécie=Galeto\\u003cbr\\u003eAno=%{x}\\u003cbr\\u003eQuantidade de Cabeças Abatidas=%{y}\\u003cextra\\u003e\\u003c\\u002fextra\\u003e\",\"legendgroup\":\"Galeto\",\"line\":{\"color\":\"#636efa\",\"dash\":\"solid\"},\"marker\":{\"symbol\":\"circle\"},\"mode\":\"lines+markers\",\"name\":\"Galeto\",\"showlegend\":true,\"x\":[2002,2003,2004,2005,2006,2007,2008,2009,2010,2011,2012,2013,2014,2015,2016,2017,2018,2019,2020,2021],\"xaxis\":\"x\",\"y\":[1317401,246510,986851,2940863,7166137,11131034,11663461,17389191,11570242,5959150,5083641,21127488,11948191,18529975,13335349,13676609,13467264,13827143,12280811,935100],\"yaxis\":\"y\",\"type\":\"scattergl\"},{\"hovertemplate\":\"Espécie=Galinha\\u003cbr\\u003eAno=%{x}\\u003cbr\\u003eQuantidade de Cabeças Abatidas=%{y}\\u003cextra\\u003e\\u003c\\u002fextra\\u003e\",\"legendgroup\":\"Galinha\",\"line\":{\"color\":\"#EF553B\",\"dash\":\"solid\"},\"marker\":{\"symbol\":\"circle\"},\"mode\":\"lines+markers\",\"name\":\"Galinha\",\"showlegend\":true,\"x\":[2002,2003,2004,2005,2006,2007,2008,2009,2010,2011,2012,2013,2014,2015,2016,2017,2018,2019,2020,2021,2022,2023,2024,2025],\"xaxis\":\"x\",\"y\":[907958,9041001,14110130,17018467,31385547,40114052,37410216,39349059,47994528,60247799,64166693,55061571,52896467,51852653,60277149,95684004,118295691,69318977,39343318,681049766,610109509,454094040,431999280,125083570],\"yaxis\":\"y\",\"type\":\"scattergl\"},{\"hovertemplate\":\"Espécie=Galinha De Postura\\u003cbr\\u003eAno=%{x}\\u003cbr\\u003eQuantidade de Cabeças Abatidas=%{y}\\u003cextra\\u003e\\u003c\\u002fextra\\u003e\",\"legendgroup\":\"Galinha De Postura\",\"line\":{\"color\":\"#00cc96\",\"dash\":\"solid\"},\"marker\":{\"symbol\":\"circle\"},\"mode\":\"lines+markers\",\"name\":\"Galinha De Postura\",\"showlegend\":true,\"x\":[2002,2003,2004,2005,2006,2007,2008,2009,2011,2012,2013,2014,2015,2016,2017,2018,2019,2020,2021],\"xaxis\":\"x\",\"y\":[94802,264604,10964270,11047157,679082,546686,268647,71254,944416,1103808,2889749,2694061,4597367,5166235,6755425,6337205,10178406,27123426,2203052],\"yaxis\":\"y\",\"type\":\"scattergl\"},{\"hovertemplate\":\"Espécie=Javali\\u003cbr\\u003eAno=%{x}\\u003cbr\\u003eQuantidade de Cabeças Abatidas=%{y}\\u003cextra\\u003e\\u003c\\u002fextra\\u003e\",\"legendgroup\":\"Javali\",\"line\":{\"color\":\"#ab63fa\",\"dash\":\"solid\"},\"marker\":{\"symbol\":\"circle\"},\"mode\":\"lines+markers\",\"name\":\"Javali\",\"showlegend\":true,\"x\":[2002,2003,2004,2005,2006,2007,2008,2009,2010,2011,2012,2013,2014,2015,2016,2017,2022,2024,2025],\"xaxis\":\"x\",\"y\":[2848,2961,3902,2544,1893,1681,2433,2376,1583,1382,1564,1983,1179,1103,647,65,182,101,161],\"yaxis\":\"y\",\"type\":\"scattergl\"},{\"hovertemplate\":\"Espécie=Leitao\\u003cbr\\u003eAno=%{x}\\u003cbr\\u003eQuantidade de Cabeças Abatidas=%{y}\\u003cextra\\u003e\\u003c\\u002fextra\\u003e\",\"legendgroup\":\"Leitao\",\"line\":{\"color\":\"#FFA15A\",\"dash\":\"solid\"},\"marker\":{\"symbol\":\"circle\"},\"mode\":\"lines+markers\",\"name\":\"Leitao\",\"showlegend\":true,\"x\":[2002,2003,2004,2005,2006,2007,2008,2009,2010,2011,2012,2013,2014,2015,2016,2017,2018,2019,2020,2021],\"xaxis\":\"x\",\"y\":[5200,45146,60599,64497,71856,40258,53647,58471,27765,45859,22995,28953,14362,14043,10023,51817,80142,68920,14919,3323],\"yaxis\":\"y\",\"type\":\"scattergl\"},{\"hovertemplate\":\"Espécie=Muar\\u003cbr\\u003eAno=%{x}\\u003cbr\\u003eQuantidade de Cabeças Abatidas=%{y}\\u003cextra\\u003e\\u003c\\u002fextra\\u003e\",\"legendgroup\":\"Muar\",\"line\":{\"color\":\"#19d3f3\",\"dash\":\"solid\"},\"marker\":{\"symbol\":\"circle\"},\"mode\":\"lines+markers\",\"name\":\"Muar\",\"showlegend\":true,\"x\":[2002,2003,2004,2005,2006,2007,2008,2009,2010,2011,2012,2013,2014,2015,2016,2017,2018,2019,2020,2021,2022,2023,2024,2025],\"xaxis\":\"x\",\"y\":[36,2353,3816,5275,4735,3438,3744,4478,1600,849,983,470,810,823,1205,562,607,267,2681,4223,2757,1708,1531,544],\"yaxis\":\"y\",\"type\":\"scattergl\"},{\"hovertemplate\":\"Espécie=Novilha Intermediaria\\u003cbr\\u003eAno=%{x}\\u003cbr\\u003eQuantidade de Cabeças Abatidas=%{y}\\u003cextra\\u003e\\u003c\\u002fextra\\u003e\",\"legendgroup\":\"Novilha Intermediaria\",\"line\":{\"color\":\"#FF6692\",\"dash\":\"solid\"},\"marker\":{\"symbol\":\"circle\"},\"mode\":\"lines+markers\",\"name\":\"Novilha Intermediaria\",\"showlegend\":true,\"x\":[2002,2003,2004,2005,2006,2007,2008,2009,2010,2011,2012,2013,2014,2015,2016,2017,2018,2019,2020,2021],\"xaxis\":\"x\",\"y\":[6311,14491,58401,99049,146193,129762,92794,91283,93729,102817,134269,172439,200109,137763,138999,191407,196531,163699,270397,9881],\"yaxis\":\"y\",\"type\":\"scattergl\"},{\"hovertemplate\":\"Espécie=Novilha Precoce\\u003cbr\\u003eAno=%{x}\\u003cbr\\u003eQuantidade de Cabeças Abatidas=%{y}\\u003cextra\\u003e\\u003c\\u002fextra\\u003e\",\"legendgroup\":\"Novilha Precoce\",\"line\":{\"color\":\"#B6E880\",\"dash\":\"solid\"},\"marker\":{\"symbol\":\"circle\"},\"mode\":\"lines+markers\",\"name\":\"Novilha Precoce\",\"showlegend\":true,\"x\":[2002,2003,2004,2005,2006,2007,2008,2009,2010,2011,2012,2013,2014,2015,2016,2017,2018,2019,2020,2021],\"xaxis\":\"x\",\"y\":[15548,9956,31008,56397,61646,36963,57938,55458,47029,44012,74610,173166,146530,96260,121377,96577,59530,53218,48427,2645],\"yaxis\":\"y\",\"type\":\"scattergl\"},{\"hovertemplate\":\"Espécie=Novilhao\\u003cbr\\u003eAno=%{x}\\u003cbr\\u003eQuantidade de Cabeças Abatidas=%{y}\\u003cextra\\u003e\\u003c\\u002fextra\\u003e\",\"legendgroup\":\"Novilhao\",\"line\":{\"color\":\"#FF97FF\",\"dash\":\"solid\"},\"marker\":{\"symbol\":\"circle\"},\"mode\":\"lines+markers\",\"name\":\"Novilhao\",\"showlegend\":true,\"x\":[2002,2003,2004,2005,2006,2007,2008,2009,2010,2011,2012,2013,2014,2015,2016,2017,2018,2019,2020,2021],\"xaxis\":\"x\",\"y\":[868892,1584214,1990397,2003504,2194007,2334219,1915634,2037815,2006204,1820050,1907720,2139291,1958501,1303654,1407885,1313276,1074282,883496,643709,23688],\"yaxis\":\"y\",\"type\":\"scattergl\"},{\"hovertemplate\":\"Espécie=Novilho Intermediario\\u003cbr\\u003eAno=%{x}\\u003cbr\\u003eQuantidade de Cabeças Abatidas=%{y}\\u003cextra\\u003e\\u003c\\u002fextra\\u003e\",\"legendgroup\":\"Novilho Intermediario\",\"line\":{\"color\":\"#FECB52\",\"dash\":\"solid\"},\"marker\":{\"symbol\":\"circle\"},\"mode\":\"lines+markers\",\"name\":\"Novilho Intermediario\",\"showlegend\":true,\"x\":[2002,2003,2004,2005,2006,2007,2008,2009,2010,2011,2012,2013,2014,2015,2016,2017,2018,2019,2020,2021],\"xaxis\":\"x\",\"y\":[28641,203594,339184,323612,321955,300607,227237,87053,143691,149243,162096,290867,313364,430320,434538,510132,520672,477765,687036,12211],\"yaxis\":\"y\",\"type\":\"scattergl\"},{\"hovertemplate\":\"Espécie=Novilho Precoce\\u003cbr\\u003eAno=%{x}\\u003cbr\\u003eQuantidade de Cabeças Abatidas=%{y}\\u003cextra\\u003e\\u003c\\u002fextra\\u003e\",\"legendgroup\":\"Novilho Precoce\",\"line\":{\"color\":\"#636efa\",\"dash\":\"solid\"},\"marker\":{\"symbol\":\"circle\"},\"mode\":\"lines+markers\",\"name\":\"Novilho Precoce\",\"showlegend\":true,\"x\":[2002,2003,2004,2005,2006,2007,2008,2009,2010,2011,2012,2013,2014,2015,2016,2017,2018,2019,2020,2021],\"xaxis\":\"x\",\"y\":[241301,43425,148156,211155,322242,248868,248119,251364,199803,161326,309600,459222,484995,482574,455988,526671,470163,336482,377942,20383],\"yaxis\":\"y\",\"type\":\"scattergl\"},{\"hovertemplate\":\"Espécie=Novilhona\\u003cbr\\u003eAno=%{x}\\u003cbr\\u003eQuantidade de Cabeças Abatidas=%{y}\\u003cextra\\u003e\\u003c\\u002fextra\\u003e\",\"legendgroup\":\"Novilhona\",\"line\":{\"color\":\"#EF553B\",\"dash\":\"solid\"},\"marker\":{\"symbol\":\"circle\"},\"mode\":\"lines+markers\",\"name\":\"Novilhona\",\"showlegend\":true,\"x\":[2002,2003,2004,2005,2006,2007,2008,2009,2010,2011,2012,2013,2014,2015,2016,2017,2018,2019,2020,2021],\"xaxis\":\"x\",\"y\":[285801,624890,753374,842427,988157,740606,573238,531030,417874,629365,752792,789362,691517,555057,497768,630647,699123,473366,136556,2999],\"yaxis\":\"y\",\"type\":\"scattergl\"},{\"hovertemplate\":\"Espécie=Ovelha\\u003cbr\\u003eAno=%{x}\\u003cbr\\u003eQuantidade de Cabeças Abatidas=%{y}\\u003cextra\\u003e\\u003c\\u002fextra\\u003e\",\"legendgroup\":\"Ovelha\",\"line\":{\"color\":\"#00cc96\",\"dash\":\"solid\"},\"marker\":{\"symbol\":\"circle\"},\"mode\":\"lines+markers\",\"name\":\"Ovelha\",\"showlegend\":true,\"x\":[2002,2003,2004,2005,2006,2007,2008,2009,2010,2011,2012,2013,2014,2015,2016,2017,2018,2019,2020,2021,2022],\"xaxis\":\"x\",\"y\":[17912,12637,7048,11087,31330,76332,83392,133686,128395,69152,43873,17999,8700,104,423,758,24,350,106,136,24],\"yaxis\":\"y\",\"type\":\"scattergl\"},{\"hovertemplate\":\"Espécie=Ovino\\u003cbr\\u003eAno=%{x}\\u003cbr\\u003eQuantidade de Cabeças Abatidas=%{y}\\u003cextra\\u003e\\u003c\\u002fextra\\u003e\",\"legendgroup\":\"Ovino\",\"line\":{\"color\":\"#ab63fa\",\"dash\":\"solid\"},\"marker\":{\"symbol\":\"circle\"},\"mode\":\"lines+markers\",\"name\":\"Ovino\",\"showlegend\":true,\"x\":[2002,2003,2004,2005,2006,2007,2008,2009,2010,2011,2012,2013,2014,2015,2016,2017,2018,2019,2020,2021,2022,2023,2024,2025],\"xaxis\":\"x\",\"y\":[61651,34670,79443,121882,107091,87246,83554,67988,61372,118644,142855,91165,65448,56656,38871,46405,52753,44430,24666,41324,44057,36649,52665,31154],\"yaxis\":\"y\",\"type\":\"scattergl\"},{\"hovertemplate\":\"Espécie=Peru\\u003cbr\\u003eAno=%{x}\\u003cbr\\u003eQuantidade de Cabeças Abatidas=%{y}\\u003cextra\\u003e\\u003c\\u002fextra\\u003e\",\"legendgroup\":\"Peru\",\"line\":{\"color\":\"#FFA15A\",\"dash\":\"solid\"},\"marker\":{\"symbol\":\"circle\"},\"mode\":\"lines+markers\",\"name\":\"Peru\",\"showlegend\":true,\"x\":[2002,2003,2004,2005,2006,2007,2008,2009,2010,2011,2012,2013,2014,2015,2016,2017,2018,2019,2020,2021,2022,2023,2024,2025],\"xaxis\":\"x\",\"y\":[985365,25814743,24448374,29384280,35220820,41340539,46899773,38045661,33983280,34569382,38322114,33154273,30436801,31209781,31894287,28057371,18725524,14230023,14273596,14732616,15368183,16518020,16329763,5756799],\"yaxis\":\"y\",\"type\":\"scattergl\"},{\"hovertemplate\":\"Espécie=Porco Matrizeiro\\u003cbr\\u003eAno=%{x}\\u003cbr\\u003eQuantidade de Cabeças Abatidas=%{y}\\u003cextra\\u003e\\u003c\\u002fextra\\u003e\",\"legendgroup\":\"Porco Matrizeiro\",\"line\":{\"color\":\"#19d3f3\",\"dash\":\"solid\"},\"marker\":{\"symbol\":\"circle\"},\"mode\":\"lines+markers\",\"name\":\"Porco Matrizeiro\",\"showlegend\":true,\"x\":[2002,2003,2004,2005,2006,2007,2008,2009,2010,2011,2012,2013,2014,2015,2016,2017,2018,2019,2020,2021],\"xaxis\":\"x\",\"y\":[3006,11370,5192,7842,15710,10077,8180,6327,4463,9217,10831,3560,1140,1634,2552,3434,2377,5589,5947,628],\"yaxis\":\"y\",\"type\":\"scattergl\"},{\"hovertemplate\":\"Espécie=Suino Tipo Banha,\\u003cbr\\u003eAno=%{x}\\u003cbr\\u003eQuantidade de Cabeças Abatidas=%{y}\\u003cextra\\u003e\\u003c\\u002fextra\\u003e\",\"legendgroup\":\"Suino Tipo Banha,\",\"line\":{\"color\":\"#FF6692\",\"dash\":\"solid\"},\"marker\":{\"symbol\":\"circle\"},\"mode\":\"lines+markers\",\"name\":\"Suino Tipo Banha,\",\"showlegend\":true,\"x\":[2002,2003,2004,2005,2006,2007,2008,2009,2010,2011,2012,2013,2014,2015,2016,2017,2018,2019,2020,2021],\"xaxis\":\"x\",\"y\":[3701,25294,15255,8216,32199,38426,9623,13117,34097,28643,20478,11471,39991,36225,6277,8969,7891,7171,9673,53],\"yaxis\":\"y\",\"type\":\"scattergl\"},{\"hovertemplate\":\"Espécie=Touro\\u002fTouruno\\u003cbr\\u003eAno=%{x}\\u003cbr\\u003eQuantidade de Cabeças Abatidas=%{y}\\u003cextra\\u003e\\u003c\\u002fextra\\u003e\",\"legendgroup\":\"Touro\\u002fTouruno\",\"line\":{\"color\":\"#B6E880\",\"dash\":\"solid\"},\"marker\":{\"symbol\":\"circle\"},\"mode\":\"lines+markers\",\"name\":\"Touro\\u002fTouruno\",\"showlegend\":true,\"x\":[2002,2003,2004,2005,2006,2007,2008,2009,2010,2011,2012,2013,2014,2015,2016,2017,2018,2019,2020,2021],\"xaxis\":\"x\",\"y\":[1056,47010,109350,92226,91739,107218,194158,248159,355687,448094,566523,691782,752864,780758,760954,792150,844725,872763,741303,21639],\"yaxis\":\"y\",\"type\":\"scattergl\"},{\"hovertemplate\":\"Espécie=Vaca\\u003cbr\\u003eAno=%{x}\\u003cbr\\u003eQuantidade de Cabeças Abatidas=%{y}\\u003cextra\\u003e\\u003c\\u002fextra\\u003e\",\"legendgroup\":\"Vaca\",\"line\":{\"color\":\"#FF97FF\",\"dash\":\"solid\"},\"marker\":{\"symbol\":\"circle\"},\"mode\":\"lines+markers\",\"name\":\"Vaca\",\"showlegend\":true,\"x\":[2002,2003,2004,2005,2006,2007,2008,2009,2010,2011,2012,2013,2014,2015,2016,2017,2018,2019,2020,2021],\"xaxis\":\"x\",\"y\":[125615,462898,801293,951489,1136925,988920,871972,646826,810566,927405,1049116,1246650,1022315,901120,916570,1122918,1321242,1203072,799155,31754],\"yaxis\":\"y\",\"type\":\"scattergl\"},{\"hovertemplate\":\"Espécie=Avestruz\\u003cbr\\u003eAno=%{x}\\u003cbr\\u003eQuantidade de Cabeças Abatidas=%{y}\\u003cextra\\u003e\\u003c\\u002fextra\\u003e\",\"legendgroup\":\"Avestruz\",\"line\":{\"color\":\"#FECB52\",\"dash\":\"solid\"},\"marker\":{\"symbol\":\"circle\"},\"mode\":\"lines+markers\",\"name\":\"Avestruz\",\"showlegend\":true,\"x\":[2003,2004,2005,2006,2007,2008,2009,2010,2011,2012,2013,2014,2015,2016,2017,2018,2019,2020,2021],\"xaxis\":\"x\",\"y\":[109,668,1758,5826,15420,5089,62654,42753,3733,2459,84099,1248,1229,594,828,9895,624,62364,96],\"yaxis\":\"y\",\"type\":\"scattergl\"},{\"hovertemplate\":\"Espécie=Cabrito\\u003cbr\\u003eAno=%{x}\\u003cbr\\u003eQuantidade de Cabeças Abatidas=%{y}\\u003cextra\\u003e\\u003c\\u002fextra\\u003e\",\"legendgroup\":\"Cabrito\",\"line\":{\"color\":\"#636efa\",\"dash\":\"solid\"},\"marker\":{\"symbol\":\"circle\"},\"mode\":\"lines+markers\",\"name\":\"Cabrito\",\"showlegend\":true,\"x\":[2003,2004,2005,2006,2007,2008,2009,2010,2011,2012,2013,2014,2015,2016,2017,2018,2019,2020],\"xaxis\":\"x\",\"y\":[373,222,73,291,1016,631,164,98,197,822,451,1455,3341,1607,2504,75,12,50],\"yaxis\":\"y\",\"type\":\"scattergl\"},{\"hovertemplate\":\"Espécie=Capivara\\u003cbr\\u003eAno=%{x}\\u003cbr\\u003eQuantidade de Cabeças Abatidas=%{y}\\u003cextra\\u003e\\u003c\\u002fextra\\u003e\",\"legendgroup\":\"Capivara\",\"line\":{\"color\":\"#EF553B\",\"dash\":\"solid\"},\"marker\":{\"symbol\":\"circle\"},\"mode\":\"lines+markers\",\"name\":\"Capivara\",\"showlegend\":true,\"x\":[2003,2004,2005,2006,2008,2009,2010,2011,2012,2013,2015,2022,2024,2025],\"xaxis\":\"x\",\"y\":[55,132,72,35,75,117,71,10,60,6,40,314,306,38],\"yaxis\":\"y\",\"type\":\"scattergl\"},{\"hovertemplate\":\"Espécie=Cateto\\u003cbr\\u003eAno=%{x}\\u003cbr\\u003eQuantidade de Cabeças Abatidas=%{y}\\u003cextra\\u003e\\u003c\\u002fextra\\u003e\",\"legendgroup\":\"Cateto\",\"line\":{\"color\":\"#00cc96\",\"dash\":\"solid\"},\"marker\":{\"symbol\":\"circle\"},\"mode\":\"lines+markers\",\"name\":\"Cateto\",\"showlegend\":true,\"x\":[2003,2005,2006,2008,2009,2010,2011,2012,2013,2014,2016],\"xaxis\":\"x\",\"y\":[20,26,24,4,61,24,33,49,35,0,0],\"yaxis\":\"y\",\"type\":\"scattergl\"},{\"hovertemplate\":\"Espécie=Coelha\\u003cbr\\u003eAno=%{x}\\u003cbr\\u003eQuantidade de Cabeças Abatidas=%{y}\\u003cextra\\u003e\\u003c\\u002fextra\\u003e\",\"legendgroup\":\"Coelha\",\"line\":{\"color\":\"#ab63fa\",\"dash\":\"solid\"},\"marker\":{\"symbol\":\"circle\"},\"mode\":\"lines+markers\",\"name\":\"Coelha\",\"showlegend\":true,\"x\":[2003,2004,2005,2006,2007,2008,2009,2010,2011,2012,2013,2014,2015,2019],\"xaxis\":\"x\",\"y\":[19181,14291,7520,10773,12031,17544,22214,13692,9877,6619,462,175,250,70],\"yaxis\":\"y\",\"type\":\"scattergl\"},{\"hovertemplate\":\"Espécie=Galinha Dangola\\u003cbr\\u003eAno=%{x}\\u003cbr\\u003eQuantidade de Cabeças Abatidas=%{y}\\u003cextra\\u003e\\u003c\\u002fextra\\u003e\",\"legendgroup\":\"Galinha Dangola\",\"line\":{\"color\":\"#FFA15A\",\"dash\":\"solid\"},\"marker\":{\"symbol\":\"circle\"},\"mode\":\"lines+markers\",\"name\":\"Galinha Dangola\",\"showlegend\":true,\"x\":[2003,2004,2005,2006,2007,2008,2009,2010,2013,2014,2015,2016,2018,2020],\"xaxis\":\"x\",\"y\":[9709,5102,12982,5132,10313,9084,27224,7571,1802,3832,365,197,332624,30911],\"yaxis\":\"y\",\"type\":\"scattergl\"},{\"hovertemplate\":\"Espécie=Galo\\u003cbr\\u003eAno=%{x}\\u003cbr\\u003eQuantidade de Cabeças Abatidas=%{y}\\u003cextra\\u003e\\u003c\\u002fextra\\u003e\",\"legendgroup\":\"Galo\",\"line\":{\"color\":\"#19d3f3\",\"dash\":\"solid\"},\"marker\":{\"symbol\":\"circle\"},\"mode\":\"lines+markers\",\"name\":\"Galo\",\"showlegend\":true,\"x\":[2003,2004,2005,2006,2007,2008,2009,2010,2011,2012,2013,2014,2015,2016,2017,2018,2019,2020,2021,2022,2023,2024,2025],\"xaxis\":\"x\",\"y\":[24066,34758,172449,248013,238938,144747,310056,562945,1056995,1628237,1263557,1507158,1555658,1852738,1952370,1841343,1608434,1792798,213471,188980,290944,349171,80292],\"yaxis\":\"y\",\"type\":\"scattergl\"},{\"hovertemplate\":\"Espécie=Marreco\\u003cbr\\u003eAno=%{x}\\u003cbr\\u003eQuantidade de Cabeças Abatidas=%{y}\\u003cextra\\u003e\\u003c\\u002fextra\\u003e\",\"legendgroup\":\"Marreco\",\"line\":{\"color\":\"#FF6692\",\"dash\":\"solid\"},\"marker\":{\"symbol\":\"circle\"},\"mode\":\"lines+markers\",\"name\":\"Marreco\",\"showlegend\":true,\"x\":[2003,2004,2005,2006,2007,2008,2009,2010,2011,2012,2013,2014,2015,2016,2017,2018,2019],\"xaxis\":\"x\",\"y\":[120259,234044,373388,441623,373305,185836,246180,193101,228391,228114,72730,90331,74445,65906,131328,94771,216910],\"yaxis\":\"y\",\"type\":\"scattergl\"},{\"hovertemplate\":\"Espécie=Nonato\\u003cbr\\u003eAno=%{x}\\u003cbr\\u003eQuantidade de Cabeças Abatidas=%{y}\\u003cextra\\u003e\\u003c\\u002fextra\\u003e\",\"legendgroup\":\"Nonato\",\"line\":{\"color\":\"#B6E880\",\"dash\":\"solid\"},\"marker\":{\"symbol\":\"circle\"},\"mode\":\"lines+markers\",\"name\":\"Nonato\",\"showlegend\":true,\"x\":[2003,2004,2005,2006,2007,2008,2009,2010,2011,2012,2013,2014,2015,2016,2017,2018,2019,2020,2021],\"xaxis\":\"x\",\"y\":[333,387,1736,2648,2343,3485,459,1138,758,1377,653,1259,1202,589,1626,1155,280,1224,20],\"yaxis\":\"y\",\"type\":\"scattergl\"},{\"hovertemplate\":\"Espécie=Pato\\u003cbr\\u003eAno=%{x}\\u003cbr\\u003eQuantidade de Cabeças Abatidas=%{y}\\u003cextra\\u003e\\u003c\\u002fextra\\u003e\",\"legendgroup\":\"Pato\",\"line\":{\"color\":\"#FF97FF\",\"dash\":\"solid\"},\"marker\":{\"symbol\":\"circle\"},\"mode\":\"lines+markers\",\"name\":\"Pato\",\"showlegend\":true,\"x\":[2003,2004,2005,2006,2007,2008,2009,2010,2011,2012,2013,2014,2015,2016,2017,2018,2019,2020,2021,2022,2023,2024,2025],\"xaxis\":\"x\",\"y\":[95443,391251,919915,999130,602709,1095429,1178740,1697373,1657787,2727813,970162,1657142,1933061,1946204,2406571,2658758,2123452,2028298,2499269,2501095,2521666,2662571,748669],\"yaxis\":\"y\",\"type\":\"scattergl\"},{\"hovertemplate\":\"Espécie=Perdiz\\u003cbr\\u003eAno=%{x}\\u003cbr\\u003eQuantidade de Cabeças Abatidas=%{y}\\u003cextra\\u003e\\u003c\\u002fextra\\u003e\",\"legendgroup\":\"Perdiz\",\"line\":{\"color\":\"#FECB52\",\"dash\":\"solid\"},\"marker\":{\"symbol\":\"circle\"},\"mode\":\"lines+markers\",\"name\":\"Perdiz\",\"showlegend\":true,\"x\":[2003,2004,2005,2006,2007,2008,2009,2021,2023],\"xaxis\":\"x\",\"y\":[226221,300661,231909,531830,214561,236456,190786,16845,3744],\"yaxis\":\"y\",\"type\":\"scattergl\"},{\"hovertemplate\":\"Espécie=Queixada\\u003cbr\\u003eAno=%{x}\\u003cbr\\u003eQuantidade de Cabeças Abatidas=%{y}\\u003cextra\\u003e\\u003c\\u002fextra\\u003e\",\"legendgroup\":\"Queixada\",\"line\":{\"color\":\"#636efa\",\"dash\":\"solid\"},\"marker\":{\"symbol\":\"circle\"},\"mode\":\"lines+markers\",\"name\":\"Queixada\",\"showlegend\":true,\"x\":[2003,2004,2005,2008,2009,2010,2011,2012,2013,2014,2015,2016,2022,2023],\"xaxis\":\"x\",\"y\":[10,60,50,21,58,21,73,156,11,63,16,75,450,458],\"yaxis\":\"y\",\"type\":\"scattergl\"},{\"hovertemplate\":\"Espécie=Ra\\u003cbr\\u003eAno=%{x}\\u003cbr\\u003eQuantidade de Cabeças Abatidas=%{y}\\u003cextra\\u003e\\u003c\\u002fextra\\u003e\",\"legendgroup\":\"Ra\",\"line\":{\"color\":\"#EF553B\",\"dash\":\"solid\"},\"marker\":{\"symbol\":\"circle\"},\"mode\":\"lines+markers\",\"name\":\"Ra\",\"showlegend\":true,\"x\":[2003,2005,2009,2010,2011,2012,2013,2014,2015,2016],\"xaxis\":\"x\",\"y\":[5,108,21410,46108,69565,155981,114224,176484,135622,1700],\"yaxis\":\"y\",\"type\":\"scattergl\"},{\"hovertemplate\":\"Espécie=Vitelo\\u003cbr\\u003eAno=%{x}\\u003cbr\\u003eQuantidade de Cabeças Abatidas=%{y}\\u003cextra\\u003e\\u003c\\u002fextra\\u003e\",\"legendgroup\":\"Vitelo\",\"line\":{\"color\":\"#00cc96\",\"dash\":\"solid\"},\"marker\":{\"symbol\":\"circle\"},\"mode\":\"lines+markers\",\"name\":\"Vitelo\",\"showlegend\":true,\"x\":[2003,2004,2005,2006,2007,2008,2009,2010,2011,2012,2013,2014,2015,2016,2017,2018,2019,2020,2021],\"xaxis\":\"x\",\"y\":[13394,13054,28634,7251,29235,15693,10045,17481,20503,16116,18202,22059,33349,12884,14348,14972,17373,146,13],\"yaxis\":\"y\",\"type\":\"scattergl\"},{\"hovertemplate\":\"Espécie=Frango Especial\\u003cbr\\u003eAno=%{x}\\u003cbr\\u003eQuantidade de Cabeças Abatidas=%{y}\\u003cextra\\u003e\\u003c\\u002fextra\\u003e\",\"legendgroup\":\"Frango Especial\",\"line\":{\"color\":\"#ab63fa\",\"dash\":\"solid\"},\"marker\":{\"symbol\":\"circle\"},\"mode\":\"lines+markers\",\"name\":\"Frango Especial\",\"showlegend\":true,\"x\":[2004,2005,2006,2007,2008,2009,2010,2011,2012,2013,2014,2015,2016,2018,2019,2020,2021],\"xaxis\":\"x\",\"y\":[12905261,3277662,124322,771122,477804,259176,425757,52616,141644,4330054,4142500,7362126,53942,93629,89248,5692356,88700],\"yaxis\":\"y\",\"type\":\"scattergl\"},{\"hovertemplate\":\"Espécie=Cabrita\\u003cbr\\u003eAno=%{x}\\u003cbr\\u003eQuantidade de Cabeças Abatidas=%{y}\\u003cextra\\u003e\\u003c\\u002fextra\\u003e\",\"legendgroup\":\"Cabrita\",\"line\":{\"color\":\"#FFA15A\",\"dash\":\"solid\"},\"marker\":{\"symbol\":\"circle\"},\"mode\":\"lines+markers\",\"name\":\"Cabrita\",\"showlegend\":true,\"x\":[2005,2006,2007,2008,2009,2010,2011,2012,2014,2015,2016,2017,2018],\"xaxis\":\"x\",\"y\":[55,20,241,314,40,29,65,300,516,991,460,1162,179],\"yaxis\":\"y\",\"type\":\"scattergl\"},{\"hovertemplate\":\"Espécie=Avestruz FÃªmea\\u003cbr\\u003eAno=%{x}\\u003cbr\\u003eQuantidade de Cabeças Abatidas=%{y}\\u003cextra\\u003e\\u003c\\u002fextra\\u003e\",\"legendgroup\":\"Avestruz FÃªmea\",\"line\":{\"color\":\"#19d3f3\",\"dash\":\"solid\"},\"marker\":{\"symbol\":\"circle\"},\"mode\":\"lines+markers\",\"name\":\"Avestruz FÃªmea\",\"showlegend\":true,\"x\":[2006,2007,2008,2009,2010,2011,2012,2013,2014,2015,2016,2017],\"xaxis\":\"x\",\"y\":[49,5564,3953,880,797,239,30,25,109,160,119,58],\"yaxis\":\"y\",\"type\":\"scattergl\"},{\"hovertemplate\":\"Espécie=RÃ£ Touro\\u003cbr\\u003eAno=%{x}\\u003cbr\\u003eQuantidade de Cabeças Abatidas=%{y}\\u003cextra\\u003e\\u003c\\u002fextra\\u003e\",\"legendgroup\":\"RÃ£ Touro\",\"line\":{\"color\":\"#FF6692\",\"dash\":\"solid\"},\"marker\":{\"symbol\":\"circle\"},\"mode\":\"lines+markers\",\"name\":\"RÃ£ Touro\",\"showlegend\":true,\"x\":[2009,2020,2021],\"xaxis\":\"x\",\"y\":[21270,53718,7500],\"yaxis\":\"y\",\"type\":\"scattergl\"},{\"hovertemplate\":\"Espécie=Ganso\\u003cbr\\u003eAno=%{x}\\u003cbr\\u003eQuantidade de Cabeças Abatidas=%{y}\\u003cextra\\u003e\\u003c\\u002fextra\\u003e\",\"legendgroup\":\"Ganso\",\"line\":{\"color\":\"#B6E880\",\"dash\":\"solid\"},\"marker\":{\"symbol\":\"circle\"},\"mode\":\"lines+markers\",\"name\":\"Ganso\",\"showlegend\":true,\"x\":[2010,2011,2017,2018,2019],\"xaxis\":\"x\",\"y\":[1470,1691,290,7098,7349],\"yaxis\":\"y\",\"type\":\"scattergl\"},{\"hovertemplate\":\"Espécie=Cutia\\u003cbr\\u003eAno=%{x}\\u003cbr\\u003eQuantidade de Cabeças Abatidas=%{y}\\u003cextra\\u003e\\u003c\\u002fextra\\u003e\",\"legendgroup\":\"Cutia\",\"line\":{\"color\":\"#FF97FF\",\"dash\":\"solid\"},\"marker\":{\"symbol\":\"circle\"},\"mode\":\"lines+markers\",\"name\":\"Cutia\",\"showlegend\":true,\"x\":[2012],\"xaxis\":\"x\",\"y\":[24],\"yaxis\":\"y\",\"type\":\"scattergl\"},{\"hovertemplate\":\"Espécie=Paca\\u003cbr\\u003eAno=%{x}\\u003cbr\\u003eQuantidade de Cabeças Abatidas=%{y}\\u003cextra\\u003e\\u003c\\u002fextra\\u003e\",\"legendgroup\":\"Paca\",\"line\":{\"color\":\"#FECB52\",\"dash\":\"solid\"},\"marker\":{\"symbol\":\"circle\"},\"mode\":\"lines+markers\",\"name\":\"Paca\",\"showlegend\":true,\"x\":[2012,2013,2014,2015,2016],\"xaxis\":\"x\",\"y\":[67,22,204,137,154],\"yaxis\":\"y\",\"type\":\"scattergl\"},{\"hovertemplate\":\"Espécie=Paca FÃªmea\\u003cbr\\u003eAno=%{x}\\u003cbr\\u003eQuantidade de Cabeças Abatidas=%{y}\\u003cextra\\u003e\\u003c\\u002fextra\\u003e\",\"legendgroup\":\"Paca FÃªmea\",\"line\":{\"color\":\"#636efa\",\"dash\":\"solid\"},\"marker\":{\"symbol\":\"circle\"},\"mode\":\"lines+markers\",\"name\":\"Paca FÃªmea\",\"showlegend\":true,\"x\":[2012,2013,2014,2015,2016],\"xaxis\":\"x\",\"y\":[15,27,93,205,158],\"yaxis\":\"y\",\"type\":\"scattergl\"},{\"hovertemplate\":\"Espécie=Cutia FÃªmea\\u003cbr\\u003eAno=%{x}\\u003cbr\\u003eQuantidade de Cabeças Abatidas=%{y}\\u003cextra\\u003e\\u003c\\u002fextra\\u003e\",\"legendgroup\":\"Cutia FÃªmea\",\"line\":{\"color\":\"#EF553B\",\"dash\":\"solid\"},\"marker\":{\"symbol\":\"circle\"},\"mode\":\"lines+markers\",\"name\":\"Cutia FÃªmea\",\"showlegend\":true,\"x\":[2013],\"xaxis\":\"x\",\"y\":[6],\"yaxis\":\"y\",\"type\":\"scattergl\"},{\"hovertemplate\":\"Espécie=RÃ£\\u003cbr\\u003eAno=%{x}\\u003cbr\\u003eQuantidade de Cabeças Abatidas=%{y}\\u003cextra\\u003e\\u003c\\u002fextra\\u003e\",\"legendgroup\":\"RÃ£\",\"line\":{\"color\":\"#00cc96\",\"dash\":\"solid\"},\"marker\":{\"symbol\":\"circle\"},\"mode\":\"lines+markers\",\"name\":\"RÃ£\",\"showlegend\":true,\"x\":[2017,2018,2019,2020,2021,2022,2023,2024,2025],\"xaxis\":\"x\",\"y\":[24995,10990,17940,31731,12036,7800,12500,13100,6750],\"yaxis\":\"y\",\"type\":\"scattergl\"},{\"hovertemplate\":\"Espécie=TilÃ¡pia\\u003cbr\\u003eAno=%{x}\\u003cbr\\u003eQuantidade de Cabeças Abatidas=%{y}\\u003cextra\\u003e\\u003c\\u002fextra\\u003e\",\"legendgroup\":\"TilÃ¡pia\",\"line\":{\"color\":\"#ab63fa\",\"dash\":\"solid\"},\"marker\":{\"symbol\":\"circle\"},\"mode\":\"lines+markers\",\"name\":\"TilÃ¡pia\",\"showlegend\":true,\"x\":[2020,2021],\"xaxis\":\"x\",\"y\":[6387783,597939],\"yaxis\":\"y\",\"type\":\"scattergl\"},{\"hovertemplate\":\"Espécie=Aves\\u003cbr\\u003eAno=%{x}\\u003cbr\\u003eQuantidade de Cabeças Abatidas=%{y}\\u003cextra\\u003e\\u003c\\u002fextra\\u003e\",\"legendgroup\":\"Aves\",\"line\":{\"color\":\"#FFA15A\",\"dash\":\"solid\"},\"marker\":{\"symbol\":\"circle\"},\"mode\":\"lines+markers\",\"name\":\"Aves\",\"showlegend\":true,\"x\":[2021,2022],\"xaxis\":\"x\",\"y\":[1686617423,991363086],\"yaxis\":\"y\",\"type\":\"scattergl\"},{\"hovertemplate\":\"Espécie=Bagre africano\\u003cbr\\u003eAno=%{x}\\u003cbr\\u003eQuantidade de Cabeças Abatidas=%{y}\\u003cextra\\u003e\\u003c\\u002fextra\\u003e\",\"legendgroup\":\"Bagre africano\",\"line\":{\"color\":\"#19d3f3\",\"dash\":\"solid\"},\"marker\":{\"symbol\":\"circle\"},\"mode\":\"lines+markers\",\"name\":\"Bagre africano\",\"showlegend\":true,\"x\":[2021],\"xaxis\":\"x\",\"y\":[20000],\"yaxis\":\"y\",\"type\":\"scattergl\"},{\"hovertemplate\":\"Espécie=Bubalino\\u003cbr\\u003eAno=%{x}\\u003cbr\\u003eQuantidade de Cabeças Abatidas=%{y}\\u003cextra\\u003e\\u003c\\u002fextra\\u003e\",\"legendgroup\":\"Bubalino\",\"line\":{\"color\":\"#FF6692\",\"dash\":\"solid\"},\"marker\":{\"symbol\":\"circle\"},\"mode\":\"lines+markers\",\"name\":\"Bubalino\",\"showlegend\":true,\"x\":[2021,2022,2023,2024,2025],\"xaxis\":\"x\",\"y\":[8653,6384,5549,3046,1126],\"yaxis\":\"y\",\"type\":\"scattergl\"},{\"hovertemplate\":\"Espécie=Galinha-d'angola\\u003cbr\\u003eAno=%{x}\\u003cbr\\u003eQuantidade de Cabeças Abatidas=%{y}\\u003cextra\\u003e\\u003c\\u002fextra\\u003e\",\"legendgroup\":\"Galinha-d'angola\",\"line\":{\"color\":\"#B6E880\",\"dash\":\"solid\"},\"marker\":{\"symbol\":\"circle\"},\"mode\":\"lines+markers\",\"name\":\"Galinha-d'angola\",\"showlegend\":true,\"x\":[2021,2022,2023,2024,2025],\"xaxis\":\"x\",\"y\":[3540,9072,12156,13238,3714],\"yaxis\":\"y\",\"type\":\"scattergl\"},{\"hovertemplate\":\"Espécie=JacarÃ© do pantanal\\u003cbr\\u003eAno=%{x}\\u003cbr\\u003eQuantidade de Cabeças Abatidas=%{y}\\u003cextra\\u003e\\u003c\\u002fextra\\u003e\",\"legendgroup\":\"JacarÃ© do pantanal\",\"line\":{\"color\":\"#FF97FF\",\"dash\":\"solid\"},\"marker\":{\"symbol\":\"circle\"},\"mode\":\"lines+markers\",\"name\":\"JacarÃ© do pantanal\",\"showlegend\":true,\"x\":[2021,2022],\"xaxis\":\"x\",\"y\":[4428,1484],\"yaxis\":\"y\",\"type\":\"scattergl\"},{\"hovertemplate\":\"Espécie=JacarÃ©-do-papo-amarelo\\u003cbr\\u003eAno=%{x}\\u003cbr\\u003eQuantidade de Cabeças Abatidas=%{y}\\u003cextra\\u003e\\u003c\\u002fextra\\u003e\",\"legendgroup\":\"JacarÃ©-do-papo-amarelo\",\"line\":{\"color\":\"#FECB52\",\"dash\":\"solid\"},\"marker\":{\"symbol\":\"circle\"},\"mode\":\"lines+markers\",\"name\":\"JacarÃ©-do-papo-amarelo\",\"showlegend\":true,\"x\":[2021],\"xaxis\":\"x\",\"y\":[691],\"yaxis\":\"y\",\"type\":\"scattergl\"},{\"hovertemplate\":\"Espécie=Lambari\\u003cbr\\u003eAno=%{x}\\u003cbr\\u003eQuantidade de Cabeças Abatidas=%{y}\\u003cextra\\u003e\\u003c\\u002fextra\\u003e\",\"legendgroup\":\"Lambari\",\"line\":{\"color\":\"#636efa\",\"dash\":\"solid\"},\"marker\":{\"symbol\":\"circle\"},\"mode\":\"lines+markers\",\"name\":\"Lambari\",\"showlegend\":true,\"x\":[2021],\"xaxis\":\"x\",\"y\":[4200],\"yaxis\":\"y\",\"type\":\"scattergl\"},{\"hovertemplate\":\"Espécie=Outros anfÃ­bios\\u003cbr\\u003eAno=%{x}\\u003cbr\\u003eQuantidade de Cabeças Abatidas=%{y}\\u003cextra\\u003e\\u003c\\u002fextra\\u003e\",\"legendgroup\":\"Outros anfÃ­bios\",\"line\":{\"color\":\"#EF553B\",\"dash\":\"solid\"},\"marker\":{\"symbol\":\"circle\"},\"mode\":\"lines+markers\",\"name\":\"Outros anfÃ­bios\",\"showlegend\":true,\"x\":[2021,2022],\"xaxis\":\"x\",\"y\":[25537,8142],\"yaxis\":\"y\",\"type\":\"scattergl\"},{\"hovertemplate\":\"Espécie=Panga, Pangasius\\u003cbr\\u003eAno=%{x}\\u003cbr\\u003eQuantidade de Cabeças Abatidas=%{y}\\u003cextra\\u003e\\u003c\\u002fextra\\u003e\",\"legendgroup\":\"Panga, Pangasius\",\"line\":{\"color\":\"#00cc96\",\"dash\":\"solid\"},\"marker\":{\"symbol\":\"circle\"},\"mode\":\"lines+markers\",\"name\":\"Panga, Pangasius\",\"showlegend\":true,\"x\":[2021,2022],\"xaxis\":\"x\",\"y\":[27754,5166],\"yaxis\":\"y\",\"type\":\"scattergl\"},{\"hovertemplate\":\"Espécie=Peixe\\u003cbr\\u003eAno=%{x}\\u003cbr\\u003eQuantidade de Cabeças Abatidas=%{y}\\u003cextra\\u003e\\u003c\\u002fextra\\u003e\",\"legendgroup\":\"Peixe\",\"line\":{\"color\":\"#ab63fa\",\"dash\":\"solid\"},\"marker\":{\"symbol\":\"circle\"},\"mode\":\"lines+markers\",\"name\":\"Peixe\",\"showlegend\":true,\"x\":[2021,2022,2023,2024],\"xaxis\":\"x\",\"y\":[24070708,5308288,1753028,83000],\"yaxis\":\"y\",\"type\":\"scattergl\"},{\"hovertemplate\":\"Espécie=PiauÃ§u\\u003cbr\\u003eAno=%{x}\\u003cbr\\u003eQuantidade de Cabeças Abatidas=%{y}\\u003cextra\\u003e\\u003c\\u002fextra\\u003e\",\"legendgroup\":\"PiauÃ§u\",\"line\":{\"color\":\"#FFA15A\",\"dash\":\"solid\"},\"marker\":{\"symbol\":\"circle\"},\"mode\":\"lines+markers\",\"name\":\"PiauÃ§u\",\"showlegend\":true,\"x\":[2021,2022],\"xaxis\":\"x\",\"y\":[1521,25],\"yaxis\":\"y\",\"type\":\"scattergl\"},{\"hovertemplate\":\"Espécie=Pintado\\u003cbr\\u003eAno=%{x}\\u003cbr\\u003eQuantidade de Cabeças Abatidas=%{y}\\u003cextra\\u003e\\u003c\\u002fextra\\u003e\",\"legendgroup\":\"Pintado\",\"line\":{\"color\":\"#19d3f3\",\"dash\":\"solid\"},\"marker\":{\"symbol\":\"circle\"},\"mode\":\"lines+markers\",\"name\":\"Pintado\",\"showlegend\":true,\"x\":[2021,2022],\"xaxis\":\"x\",\"y\":[60588,28657],\"yaxis\":\"y\",\"type\":\"scattergl\"},{\"hovertemplate\":\"Espécie=Pintado da AmazÃ´nia\\u003cbr\\u003eAno=%{x}\\u003cbr\\u003eQuantidade de Cabeças Abatidas=%{y}\\u003cextra\\u003e\\u003c\\u002fextra\\u003e\",\"legendgroup\":\"Pintado da AmazÃ´nia\",\"line\":{\"color\":\"#FF6692\",\"dash\":\"solid\"},\"marker\":{\"symbol\":\"circle\"},\"mode\":\"lines+markers\",\"name\":\"Pintado da AmazÃ´nia\",\"showlegend\":true,\"x\":[2021],\"xaxis\":\"x\",\"y\":[8817],\"yaxis\":\"y\",\"type\":\"scattergl\"},{\"hovertemplate\":\"Espécie=Pirapitinga\\u003cbr\\u003eAno=%{x}\\u003cbr\\u003eQuantidade de Cabeças Abatidas=%{y}\\u003cextra\\u003e\\u003c\\u002fextra\\u003e\",\"legendgroup\":\"Pirapitinga\",\"line\":{\"color\":\"#B6E880\",\"dash\":\"solid\"},\"marker\":{\"symbol\":\"circle\"},\"mode\":\"lines+markers\",\"name\":\"Pirapitinga\",\"showlegend\":true,\"x\":[2021],\"xaxis\":\"x\",\"y\":[12687],\"yaxis\":\"y\",\"type\":\"scattergl\"},{\"hovertemplate\":\"Espécie=Pirarucu\\u003cbr\\u003eAno=%{x}\\u003cbr\\u003eQuantidade de Cabeças Abatidas=%{y}\\u003cextra\\u003e\\u003c\\u002fextra\\u003e\",\"legendgroup\":\"Pirarucu\",\"line\":{\"color\":\"#FF97FF\",\"dash\":\"solid\"},\"marker\":{\"symbol\":\"circle\"},\"mode\":\"lines+markers\",\"name\":\"Pirarucu\",\"showlegend\":true,\"x\":[2021],\"xaxis\":\"x\",\"y\":[511],\"yaxis\":\"y\",\"type\":\"scattergl\"},{\"hovertemplate\":\"Espécie=Ratitas\\u003cbr\\u003eAno=%{x}\\u003cbr\\u003eQuantidade de Cabeças Abatidas=%{y}\\u003cextra\\u003e\\u003c\\u002fextra\\u003e\",\"legendgroup\":\"Ratitas\",\"line\":{\"color\":\"#FECB52\",\"dash\":\"solid\"},\"marker\":{\"symbol\":\"circle\"},\"mode\":\"lines+markers\",\"name\":\"Ratitas\",\"showlegend\":true,\"x\":[2021,2022,2023,2024,2025],\"xaxis\":\"x\",\"y\":[865,892,1184,660,400],\"yaxis\":\"y\",\"type\":\"scattergl\"},{\"hovertemplate\":\"Espécie=RÃ£-touro\\u003cbr\\u003eAno=%{x}\\u003cbr\\u003eQuantidade de Cabeças Abatidas=%{y}\\u003cextra\\u003e\\u003c\\u002fextra\\u003e\",\"legendgroup\":\"RÃ£-touro\",\"line\":{\"color\":\"#636efa\",\"dash\":\"solid\"},\"marker\":{\"symbol\":\"circle\"},\"mode\":\"lines+markers\",\"name\":\"RÃ£-touro\",\"showlegend\":true,\"x\":[2021,2022,2023],\"xaxis\":\"x\",\"y\":[71950,74000,33600],\"yaxis\":\"y\",\"type\":\"scattergl\"},{\"hovertemplate\":\"Espécie=SuÃ­no\\u003cbr\\u003eAno=%{x}\\u003cbr\\u003eQuantidade de Cabeças Abatidas=%{y}\\u003cextra\\u003e\\u003c\\u002fextra\\u003e\",\"legendgroup\":\"SuÃ­no\",\"line\":{\"color\":\"#EF553B\",\"dash\":\"solid\"},\"marker\":{\"symbol\":\"circle\"},\"mode\":\"lines+markers\",\"name\":\"SuÃ­no\",\"showlegend\":true,\"x\":[2021,2022,2023,2024,2025],\"xaxis\":\"x\",\"y\":[40981882,46209120,46877392,46692399,19036997],\"yaxis\":\"y\",\"type\":\"scattergl\"},{\"hovertemplate\":\"Espécie=Tambaqui\\u003cbr\\u003eAno=%{x}\\u003cbr\\u003eQuantidade de Cabeças Abatidas=%{y}\\u003cextra\\u003e\\u003c\\u002fextra\\u003e\",\"legendgroup\":\"Tambaqui\",\"line\":{\"color\":\"#00cc96\",\"dash\":\"solid\"},\"marker\":{\"symbol\":\"circle\"},\"mode\":\"lines+markers\",\"name\":\"Tambaqui\",\"showlegend\":true,\"x\":[2021],\"xaxis\":\"x\",\"y\":[188619],\"yaxis\":\"y\",\"type\":\"scattergl\"},{\"hovertemplate\":\"Espécie=Tambatinga\\u003cbr\\u003eAno=%{x}\\u003cbr\\u003eQuantidade de Cabeças Abatidas=%{y}\\u003cextra\\u003e\\u003c\\u002fextra\\u003e\",\"legendgroup\":\"Tambatinga\",\"line\":{\"color\":\"#ab63fa\",\"dash\":\"solid\"},\"marker\":{\"symbol\":\"circle\"},\"mode\":\"lines+markers\",\"name\":\"Tambatinga\",\"showlegend\":true,\"x\":[2021,2022],\"xaxis\":\"x\",\"y\":[119933,10000],\"yaxis\":\"y\",\"type\":\"scattergl\"},{\"hovertemplate\":\"Espécie=TilÃ¡pia do Nilo\\u003cbr\\u003eAno=%{x}\\u003cbr\\u003eQuantidade de Cabeças Abatidas=%{y}\\u003cextra\\u003e\\u003c\\u002fextra\\u003e\",\"legendgroup\":\"TilÃ¡pia do Nilo\",\"line\":{\"color\":\"#FFA15A\",\"dash\":\"solid\"},\"marker\":{\"symbol\":\"circle\"},\"mode\":\"lines+markers\",\"name\":\"TilÃ¡pia do Nilo\",\"showlegend\":true,\"x\":[2021,2022],\"xaxis\":\"x\",\"y\":[41076628,22635521],\"yaxis\":\"y\",\"type\":\"scattergl\"},{\"hovertemplate\":\"Espécie=TilÃ¡pia, TilÃ¡pia-do-Nilo\\u003cbr\\u003eAno=%{x}\\u003cbr\\u003eQuantidade de Cabeças Abatidas=%{y}\\u003cextra\\u003e\\u003c\\u002fextra\\u003e\",\"legendgroup\":\"TilÃ¡pia, TilÃ¡pia-do-Nilo\",\"line\":{\"color\":\"#19d3f3\",\"dash\":\"solid\"},\"marker\":{\"symbol\":\"circle\"},\"mode\":\"lines+markers\",\"name\":\"TilÃ¡pia, TilÃ¡pia-do-Nilo\",\"showlegend\":true,\"x\":[2021,2022],\"xaxis\":\"x\",\"y\":[5631684,2285219],\"yaxis\":\"y\",\"type\":\"scattergl\"},{\"hovertemplate\":\"Espécie=Truta, Truta-Arco-Ãris\\u003cbr\\u003eAno=%{x}\\u003cbr\\u003eQuantidade de Cabeças Abatidas=%{y}\\u003cextra\\u003e\\u003c\\u002fextra\\u003e\",\"legendgroup\":\"Truta, Truta-Arco-Ãris\",\"line\":{\"color\":\"#FF6692\",\"dash\":\"solid\"},\"marker\":{\"symbol\":\"circle\"},\"mode\":\"lines+markers\",\"name\":\"Truta, Truta-Arco-Ãris\",\"showlegend\":true,\"x\":[2021],\"xaxis\":\"x\",\"y\":[7845],\"yaxis\":\"y\",\"type\":\"scattergl\"},{\"hovertemplate\":\"Espécie=Uma ou mais espÃ©cies\\u003cbr\\u003eAno=%{x}\\u003cbr\\u003eQuantidade de Cabeças Abatidas=%{y}\\u003cextra\\u003e\\u003c\\u002fextra\\u003e\",\"legendgroup\":\"Uma ou mais espÃ©cies\",\"line\":{\"color\":\"#B6E880\",\"dash\":\"solid\"},\"marker\":{\"symbol\":\"circle\"},\"mode\":\"lines+markers\",\"name\":\"Uma ou mais espÃ©cies\",\"showlegend\":true,\"x\":[2021],\"xaxis\":\"x\",\"y\":[11700],\"yaxis\":\"y\",\"type\":\"scattergl\"},{\"hovertemplate\":\"Espécie=Aves nÃ£o destinadas Ã  produÃ§Ã£o de carne ou ovos (ornamentais\\u002fsilvestres)\\u003cbr\\u003eAno=%{x}\\u003cbr\\u003eQuantidade de Cabeças Abatidas=%{y}\\u003cextra\\u003e\\u003c\\u002fextra\\u003e\",\"legendgroup\":\"Aves nÃ£o destinadas Ã  produÃ§Ã£o de carne ou ovos (ornamentais\\u002fsilvestres)\",\"line\":{\"color\":\"#FF97FF\",\"dash\":\"solid\"},\"marker\":{\"symbol\":\"circle\"},\"mode\":\"lines+markers\",\"name\":\"Aves nÃ£o destinadas Ã  produÃ§Ã£o de carne ou ovos (ornamentais\\u002fsilvestres)\",\"showlegend\":true,\"x\":[2022],\"xaxis\":\"x\",\"y\":[132289],\"yaxis\":\"y\",\"type\":\"scattergl\"},{\"hovertemplate\":\"Espécie=CamarÃ£o\\u003cbr\\u003eAno=%{x}\\u003cbr\\u003eQuantidade de Cabeças Abatidas=%{y}\\u003cextra\\u003e\\u003c\\u002fextra\\u003e\",\"legendgroup\":\"CamarÃ£o\",\"line\":{\"color\":\"#FECB52\",\"dash\":\"solid\"},\"marker\":{\"symbol\":\"circle\"},\"mode\":\"lines+markers\",\"name\":\"CamarÃ£o\",\"showlegend\":true,\"x\":[2022],\"xaxis\":\"x\",\"y\":[128622],\"yaxis\":\"y\",\"type\":\"scattergl\"},{\"hovertemplate\":\"Espécie=JacarÃ©\\u003cbr\\u003eAno=%{x}\\u003cbr\\u003eQuantidade de Cabeças Abatidas=%{y}\\u003cextra\\u003e\\u003c\\u002fextra\\u003e\",\"legendgroup\":\"JacarÃ©\",\"line\":{\"color\":\"#636efa\",\"dash\":\"solid\"},\"marker\":{\"symbol\":\"circle\"},\"mode\":\"lines+markers\",\"name\":\"JacarÃ©\",\"showlegend\":true,\"x\":[2022,2023,2024,2025],\"xaxis\":\"x\",\"y\":[9950,88464,55920,12879],\"yaxis\":\"y\",\"type\":\"scattergl\"},{\"hovertemplate\":\"Espécie=Ostra\\u003cbr\\u003eAno=%{x}\\u003cbr\\u003eQuantidade de Cabeças Abatidas=%{y}\\u003cextra\\u003e\\u003c\\u002fextra\\u003e\",\"legendgroup\":\"Ostra\",\"line\":{\"color\":\"#EF553B\",\"dash\":\"solid\"},\"marker\":{\"symbol\":\"circle\"},\"mode\":\"lines+markers\",\"name\":\"Ostra\",\"showlegend\":true,\"x\":[2025],\"xaxis\":\"x\",\"y\":[4032],\"yaxis\":\"y\",\"type\":\"scattergl\"}],                        {\"template\":{\"data\":{\"histogram2dcontour\":[{\"type\":\"histogram2dcontour\",\"colorbar\":{\"outlinewidth\":0,\"ticks\":\"\"},\"colorscale\":[[0.0,\"#0d0887\"],[0.1111111111111111,\"#46039f\"],[0.2222222222222222,\"#7201a8\"],[0.3333333333333333,\"#9c179e\"],[0.4444444444444444,\"#bd3786\"],[0.5555555555555556,\"#d8576b\"],[0.6666666666666666,\"#ed7953\"],[0.7777777777777778,\"#fb9f3a\"],[0.8888888888888888,\"#fdca26\"],[1.0,\"#f0f921\"]]}],\"choropleth\":[{\"type\":\"choropleth\",\"colorbar\":{\"outlinewidth\":0,\"ticks\":\"\"}}],\"histogram2d\":[{\"type\":\"histogram2d\",\"colorbar\":{\"outlinewidth\":0,\"ticks\":\"\"},\"colorscale\":[[0.0,\"#0d0887\"],[0.1111111111111111,\"#46039f\"],[0.2222222222222222,\"#7201a8\"],[0.3333333333333333,\"#9c179e\"],[0.4444444444444444,\"#bd3786\"],[0.5555555555555556,\"#d8576b\"],[0.6666666666666666,\"#ed7953\"],[0.7777777777777778,\"#fb9f3a\"],[0.8888888888888888,\"#fdca26\"],[1.0,\"#f0f921\"]]}],\"heatmap\":[{\"type\":\"heatmap\",\"colorbar\":{\"outlinewidth\":0,\"ticks\":\"\"},\"colorscale\":[[0.0,\"#0d0887\"],[0.1111111111111111,\"#46039f\"],[0.2222222222222222,\"#7201a8\"],[0.3333333333333333,\"#9c179e\"],[0.4444444444444444,\"#bd3786\"],[0.5555555555555556,\"#d8576b\"],[0.6666666666666666,\"#ed7953\"],[0.7777777777777778,\"#fb9f3a\"],[0.8888888888888888,\"#fdca26\"],[1.0,\"#f0f921\"]]}],\"heatmapgl\":[{\"type\":\"heatmapgl\",\"colorbar\":{\"outlinewidth\":0,\"ticks\":\"\"},\"colorscale\":[[0.0,\"#0d0887\"],[0.1111111111111111,\"#46039f\"],[0.2222222222222222,\"#7201a8\"],[0.3333333333333333,\"#9c179e\"],[0.4444444444444444,\"#bd3786\"],[0.5555555555555556,\"#d8576b\"],[0.6666666666666666,\"#ed7953\"],[0.7777777777777778,\"#fb9f3a\"],[0.8888888888888888,\"#fdca26\"],[1.0,\"#f0f921\"]]}],\"contourcarpet\":[{\"type\":\"contourcarpet\",\"colorbar\":{\"outlinewidth\":0,\"ticks\":\"\"}}],\"contour\":[{\"type\":\"contour\",\"colorbar\":{\"outlinewidth\":0,\"ticks\":\"\"},\"colorscale\":[[0.0,\"#0d0887\"],[0.1111111111111111,\"#46039f\"],[0.2222222222222222,\"#7201a8\"],[0.3333333333333333,\"#9c179e\"],[0.4444444444444444,\"#bd3786\"],[0.5555555555555556,\"#d8576b\"],[0.6666666666666666,\"#ed7953\"],[0.7777777777777778,\"#fb9f3a\"],[0.8888888888888888,\"#fdca26\"],[1.0,\"#f0f921\"]]}],\"surface\":[{\"type\":\"surface\",\"colorbar\":{\"outlinewidth\":0,\"ticks\":\"\"},\"colorscale\":[[0.0,\"#0d0887\"],[0.1111111111111111,\"#46039f\"],[0.2222222222222222,\"#7201a8\"],[0.3333333333333333,\"#9c179e\"],[0.4444444444444444,\"#bd3786\"],[0.5555555555555556,\"#d8576b\"],[0.6666666666666666,\"#ed7953\"],[0.7777777777777778,\"#fb9f3a\"],[0.8888888888888888,\"#fdca26\"],[1.0,\"#f0f921\"]]}],\"mesh3d\":[{\"type\":\"mesh3d\",\"colorbar\":{\"outlinewidth\":0,\"ticks\":\"\"}}],\"scatter\":[{\"fillpattern\":{\"fillmode\":\"overlay\",\"size\":10,\"solidity\":0.2},\"type\":\"scatter\"}],\"parcoords\":[{\"type\":\"parcoords\",\"line\":{\"colorbar\":{\"outlinewidth\":0,\"ticks\":\"\"}}}],\"scatterpolargl\":[{\"type\":\"scatterpolargl\",\"marker\":{\"colorbar\":{\"outlinewidth\":0,\"ticks\":\"\"}}}],\"bar\":[{\"error_x\":{\"color\":\"#2a3f5f\"},\"error_y\":{\"color\":\"#2a3f5f\"},\"marker\":{\"line\":{\"color\":\"#E5ECF6\",\"width\":0.5},\"pattern\":{\"fillmode\":\"overlay\",\"size\":10,\"solidity\":0.2}},\"type\":\"bar\"}],\"scattergeo\":[{\"type\":\"scattergeo\",\"marker\":{\"colorbar\":{\"outlinewidth\":0,\"ticks\":\"\"}}}],\"scatterpolar\":[{\"type\":\"scatterpolar\",\"marker\":{\"colorbar\":{\"outlinewidth\":0,\"ticks\":\"\"}}}],\"histogram\":[{\"marker\":{\"pattern\":{\"fillmode\":\"overlay\",\"size\":10,\"solidity\":0.2}},\"type\":\"histogram\"}],\"scattergl\":[{\"type\":\"scattergl\",\"marker\":{\"colorbar\":{\"outlinewidth\":0,\"ticks\":\"\"}}}],\"scatter3d\":[{\"type\":\"scatter3d\",\"line\":{\"colorbar\":{\"outlinewidth\":0,\"ticks\":\"\"}},\"marker\":{\"colorbar\":{\"outlinewidth\":0,\"ticks\":\"\"}}}],\"scattermapbox\":[{\"type\":\"scattermapbox\",\"marker\":{\"colorbar\":{\"outlinewidth\":0,\"ticks\":\"\"}}}],\"scatterternary\":[{\"type\":\"scatterternary\",\"marker\":{\"colorbar\":{\"outlinewidth\":0,\"ticks\":\"\"}}}],\"scattercarpet\":[{\"type\":\"scattercarpet\",\"marker\":{\"colorbar\":{\"outlinewidth\":0,\"ticks\":\"\"}}}],\"carpet\":[{\"aaxis\":{\"endlinecolor\":\"#2a3f5f\",\"gridcolor\":\"white\",\"linecolor\":\"white\",\"minorgridcolor\":\"white\",\"startlinecolor\":\"#2a3f5f\"},\"baxis\":{\"endlinecolor\":\"#2a3f5f\",\"gridcolor\":\"white\",\"linecolor\":\"white\",\"minorgridcolor\":\"white\",\"startlinecolor\":\"#2a3f5f\"},\"type\":\"carpet\"}],\"table\":[{\"cells\":{\"fill\":{\"color\":\"#EBF0F8\"},\"line\":{\"color\":\"white\"}},\"header\":{\"fill\":{\"color\":\"#C8D4E3\"},\"line\":{\"color\":\"white\"}},\"type\":\"table\"}],\"barpolar\":[{\"marker\":{\"line\":{\"color\":\"#E5ECF6\",\"width\":0.5},\"pattern\":{\"fillmode\":\"overlay\",\"size\":10,\"solidity\":0.2}},\"type\":\"barpolar\"}],\"pie\":[{\"automargin\":true,\"type\":\"pie\"}]},\"layout\":{\"autotypenumbers\":\"strict\",\"colorway\":[\"#636efa\",\"#EF553B\",\"#00cc96\",\"#ab63fa\",\"#FFA15A\",\"#19d3f3\",\"#FF6692\",\"#B6E880\",\"#FF97FF\",\"#FECB52\"],\"font\":{\"color\":\"#2a3f5f\"},\"hovermode\":\"closest\",\"hoverlabel\":{\"align\":\"left\"},\"paper_bgcolor\":\"white\",\"plot_bgcolor\":\"#E5ECF6\",\"polar\":{\"bgcolor\":\"#E5ECF6\",\"angularaxis\":{\"gridcolor\":\"white\",\"linecolor\":\"white\",\"ticks\":\"\"},\"radialaxis\":{\"gridcolor\":\"white\",\"linecolor\":\"white\",\"ticks\":\"\"}},\"ternary\":{\"bgcolor\":\"#E5ECF6\",\"aaxis\":{\"gridcolor\":\"white\",\"linecolor\":\"white\",\"ticks\":\"\"},\"baxis\":{\"gridcolor\":\"white\",\"linecolor\":\"white\",\"ticks\":\"\"},\"caxis\":{\"gridcolor\":\"white\",\"linecolor\":\"white\",\"ticks\":\"\"}},\"coloraxis\":{\"colorbar\":{\"outlinewidth\":0,\"ticks\":\"\"}},\"colorscale\":{\"sequential\":[[0.0,\"#0d0887\"],[0.1111111111111111,\"#46039f\"],[0.2222222222222222,\"#7201a8\"],[0.3333333333333333,\"#9c179e\"],[0.4444444444444444,\"#bd3786\"],[0.5555555555555556,\"#d8576b\"],[0.6666666666666666,\"#ed7953\"],[0.7777777777777778,\"#fb9f3a\"],[0.8888888888888888,\"#fdca26\"],[1.0,\"#f0f921\"]],\"sequentialminus\":[[0.0,\"#0d0887\"],[0.1111111111111111,\"#46039f\"],[0.2222222222222222,\"#7201a8\"],[0.3333333333333333,\"#9c179e\"],[0.4444444444444444,\"#bd3786\"],[0.5555555555555556,\"#d8576b\"],[0.6666666666666666,\"#ed7953\"],[0.7777777777777778,\"#fb9f3a\"],[0.8888888888888888,\"#fdca26\"],[1.0,\"#f0f921\"]],\"diverging\":[[0,\"#8e0152\"],[0.1,\"#c51b7d\"],[0.2,\"#de77ae\"],[0.3,\"#f1b6da\"],[0.4,\"#fde0ef\"],[0.5,\"#f7f7f7\"],[0.6,\"#e6f5d0\"],[0.7,\"#b8e186\"],[0.8,\"#7fbc41\"],[0.9,\"#4d9221\"],[1,\"#276419\"]]},\"xaxis\":{\"gridcolor\":\"white\",\"linecolor\":\"white\",\"ticks\":\"\",\"title\":{\"standoff\":15},\"zerolinecolor\":\"white\",\"automargin\":true,\"zerolinewidth\":2},\"yaxis\":{\"gridcolor\":\"white\",\"linecolor\":\"white\",\"ticks\":\"\",\"title\":{\"standoff\":15},\"zerolinecolor\":\"white\",\"automargin\":true,\"zerolinewidth\":2},\"scene\":{\"xaxis\":{\"backgroundcolor\":\"#E5ECF6\",\"gridcolor\":\"white\",\"linecolor\":\"white\",\"showbackground\":true,\"ticks\":\"\",\"zerolinecolor\":\"white\",\"gridwidth\":2},\"yaxis\":{\"backgroundcolor\":\"#E5ECF6\",\"gridcolor\":\"white\",\"linecolor\":\"white\",\"showbackground\":true,\"ticks\":\"\",\"zerolinecolor\":\"white\",\"gridwidth\":2},\"zaxis\":{\"backgroundcolor\":\"#E5ECF6\",\"gridcolor\":\"white\",\"linecolor\":\"white\",\"showbackground\":true,\"ticks\":\"\",\"zerolinecolor\":\"white\",\"gridwidth\":2}},\"shapedefaults\":{\"line\":{\"color\":\"#2a3f5f\"}},\"annotationdefaults\":{\"arrowcolor\":\"#2a3f5f\",\"arrowhead\":0,\"arrowwidth\":1},\"geo\":{\"bgcolor\":\"white\",\"landcolor\":\"#E5ECF6\",\"subunitcolor\":\"white\",\"showland\":true,\"showlakes\":true,\"lakecolor\":\"white\"},\"title\":{\"x\":0.05},\"mapbox\":{\"style\":\"light\"}}},\"xaxis\":{\"anchor\":\"y\",\"domain\":[0.0,1.0],\"title\":{\"text\":\"Ano\"}},\"yaxis\":{\"anchor\":\"x\",\"domain\":[0.0,1.0],\"title\":{\"text\":\"Quantidade de Cabeças Abatidas\"}},\"legend\":{\"title\":{\"text\":\"Espécie\"},\"tracegroupgap\":0},\"title\":{\"text\":\"Evolução Anual do Abate de Animais no Brasil (SIF)\"}},                        {\"responsive\": true}                    ).then(function(){\n",
       "                            \n",
       "var gd = document.getElementById('bb8eee2c-e081-4816-b5b7-de59ecde342c');\n",
       "var x = new MutationObserver(function (mutations, observer) {{\n",
       "        var display = window.getComputedStyle(gd).display;\n",
       "        if (!display || display === 'none') {{\n",
       "            console.log([gd, 'removed!']);\n",
       "            Plotly.purge(gd);\n",
       "            observer.disconnect();\n",
       "        }}\n",
       "}});\n",
       "\n",
       "// Listen for the removal of the full notebook cells\n",
       "var notebookContainer = gd.closest('#notebook-container');\n",
       "if (notebookContainer) {{\n",
       "    x.observe(notebookContainer, {childList: true});\n",
       "}}\n",
       "\n",
       "// Listen for the clearing of the current output cell\n",
       "var outputEl = gd.closest('.output');\n",
       "if (outputEl) {{\n",
       "    x.observe(outputEl, {childList: true});\n",
       "}}\n",
       "\n",
       "                        })                };                });            </script>        </div>"
      ]
     },
     "metadata": {},
     "output_type": "display_data"
    }
   ],
   "execution_count": 2
  }
 ],
 "metadata": {
  "kernelspec": {
   "display_name": "Python 3",
   "language": "python",
   "name": "python3"
  },
  "language_info": {
   "codemirror_mode": {
    "name": "ipython",
    "version": 2
   },
   "file_extension": ".py",
   "mimetype": "text/x-python",
   "name": "python",
   "nbconvert_exporter": "python",
   "pygments_lexer": "ipython2",
   "version": "2.7.6"
  }
 },
 "nbformat": 4,
 "nbformat_minor": 5
}
